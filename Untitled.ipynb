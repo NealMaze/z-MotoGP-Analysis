{
 "cells": [
  {
   "cell_type": "code",
   "execution_count": 1,
   "metadata": {},
   "outputs": [
    {
     "name": "stdout",
     "output_type": "stream",
     "text": [
      "done\n"
     ]
    }
   ],
   "source": [
    "# define current year and round\n",
    "thisYr = \"2021\"\n",
    "thisRnd = \"16\"\n",
    "\n",
    "print(\"done\")"
   ]
  },
  {
   "cell_type": "code",
   "execution_count": 2,
   "metadata": {},
   "outputs": [
    {
     "name": "stdout",
     "output_type": "stream",
     "text": [
      "done\n"
     ]
    }
   ],
   "source": [
    "# Imports and definitions\n",
    "import numpy as np\n",
    "from IPython.display import clear_output\n",
    "from E2_AnalysisHelpers import *\n",
    "%matplotlib inline\n",
    "import matplotlib as mpl\n",
    "mpl.rc('axes', labelsize=14)\n",
    "mpl.rc('xtick', labelsize=12)\n",
    "mpl.rc('ytick', labelsize=12)\n",
    "import matplotlib.pyplot as plt\n",
    "from scipy.stats import linregress\n",
    "from sklearn import datasets\n",
    "\n",
    "rnds = [\"1\", \"2\", \"3\", \"4\", \"5\", \"6\", \"7\", \"8\", \"9\", \"10\", \"11\", \"12\", \"13\",\n",
    "        \"14\", \"15\", \"16\", \"17\", \"18\", \"19\", \"20\", \"21\", \"22\", \"23\", \"24\", \"25\"]\n",
    "yrs = [\"2021\", \"2020\"]\n",
    "# , \"2019\", \"2018\", \"2017\", \"2016\", \"2015\", \"2014\", \"2013\", \"2012\", \"2011\", \"2010\", \"2009\", \"2008\", \"2007\", \"2006\"\n",
    "\n",
    "print(\"done\")"
   ]
  },
  {
   "cell_type": "code",
   "execution_count": 7,
   "metadata": {},
   "outputs": [
    {
     "name": "stdout",
     "output_type": "stream",
     "text": [
      "--------------------------------\n",
      "sessions and weather merged\n",
      "--------------------------------\n",
      "\n",
      "index\n",
      "month\n",
      "day\n",
      "yr\n",
      "lge\n",
      "rnd\n",
      "session\n",
      "trk\n",
      "pos\n",
      "rdr_num\n",
      "f_name\n",
      "l_name\n",
      "nat\n",
      "team\n",
      "manu\n",
      "num_of_laps\n",
      "run_num\n",
      "f_tire\n",
      "r_tire\n",
      "laps_on_f\n",
      "laps_on_r\n",
      "lap_num\n",
      "lap_time\n",
      "lap_seconds\n",
      "lap_val\n",
      "pit\n",
      "sec_one\n",
      "one_seconds\n",
      "one_val\n",
      "sec_two\n",
      "two_seconds\n",
      "two_val\n",
      "sec_thr\n",
      "thr_seconds\n",
      "thr_val\n",
      "sec_four\n",
      "four_seconds\n",
      "four_val\n",
      "avg_spd\n",
      "lap_clean\n",
      "lap_clean_lim\n",
      "one_clean\n",
      "one_clean_lim\n",
      "two_clean\n",
      "two_clean_lim\n",
      "thr_clean\n",
      "thr_clean_lim\n",
      "four_clean\n",
      "four_clean_lim\n",
      "lap_scaled\n",
      "one_scaled\n",
      "two_scaled\n",
      "thr_scaled\n",
      "four_scaled\n",
      "start_pos\n",
      "result\n"
     ]
    }
   ],
   "source": [
    "# collate all pre-race dataframes, and add column of race finishing positions\n",
    "pas = \"empty\"\n",
    "dF = []\n",
    "\n",
    "print(\"--------------------------------\\ngetting dataframes and collating\\n--------------------------------\\n\")\n",
    "for yr in yrs:\n",
    "    print(\"   \" + yr)\n",
    "    dF, pas = getWholeFrame(pas, dF, yr)\n",
    "\n",
    "# add weather\n",
    "wF = mergeWeather(dF)\n",
    "\n",
    "clear_output(wait=True)\n",
    "print(\"--------------------------------\\nsessions and weather merged\\n--------------------------------\\n\")"
   ]
  },
  {
   "cell_type": "code",
   "execution_count": 4,
   "metadata": {},
   "outputs": [
    {
     "data": {
      "text/plain": [
       "8"
      ]
     },
     "execution_count": 4,
     "metadata": {},
     "output_type": "execute_result"
    }
   ],
   "source": [
    "# determine what year was last year and create a dataframe of last years results at the subject track\n",
    "nf = wF\n",
    "thisYr = int(thisYr)\n",
    "thisRnd = int(thisRnd)\n",
    "recentDF = nf.loc[(nf[\"yr\"] == thisYr) & (nf[\"rnd\"] == thisRnd)]\n",
    "lstYr = int(thisYr) - 1\n",
    "thisTrk = recentDF[\"trk\"].iloc[0]\n",
    "\n",
    "lastDF = nf.loc[(nf[\"yr\"] == lstYr) & (nf[\"trk\"] == thisTrk)]\n",
    "lstRnds = lastDF.rnd.unique()\n",
    "lstRnd = lstRnds[-1]\n",
    "lstRnd"
   ]
  },
  {
   "cell_type": "code",
   "execution_count": 5,
   "metadata": {},
   "outputs": [
    {
     "name": "stdout",
     "output_type": "stream",
     "text": [
      "done\n"
     ]
    }
   ],
   "source": [
    "files = getFiles(csvFinalDir, f\"{lstYr}-MotoGP-Rnd_{lstRnd}-Result.csv\")\n",
    "fullFrame = pd.read_csv(files[-1])\n",
    "lDF = fullFrame.drop([\"run_num\", 'index', 'month', 'day', 'f_tire', 'r_tire', 'laps_on_f', 'laps_on_r', 'f_name', 'l_name', 'nat',\n",
    "                   'num_of_laps', 'avg_spd', 'start_pos', 'one_val', 'two_val', 'thr_val', 'four_val', 'lap_time',\n",
    "                   'lap_val', 'pit', 'sec_one', 'sec_two', 'sec_thr', 'sec_four', \"one_seconds\", \"two_seconds\", \"thr_seconds\", \n",
    "                    \"four_seconds\"], axis = 1)\n",
    "\n",
    "lDF = lDF.rename(columns={\"fr_scaled\": \"four_scaled\", \"thr_scaled\": \"three_scaled\"})\n",
    "\n",
    "# # code is only relevent to yr 2020, rnd \n",
    "# lDF = lDF[lDF.lap_scaled < .85]\n",
    "# lDF = lDF[lDF.one_scaled < .7]\n",
    "# lDF = lDF[lDF.two_scaled < .56]\n",
    "# lDF = lDF[lDF.three_scaled < .85]\n",
    "# lDF = lDF[lDF.four_scaled < .55]\n",
    "#################################################\n",
    "\n",
    "lDF = lDF[lDF[\"lap_scaled\"].notna()]\n",
    "lDF = lDF[lDF[\"one_scaled\"].notna()]\n",
    "lDF = lDF[lDF[\"two_scaled\"].notna()]\n",
    "lDF = lDF[lDF[\"three_scaled\"].notna()]\n",
    "lDF = lDF[lDF[\"four_scaled\"].notna()]\n",
    "\n",
    "print(\"done\")"
   ]
  },
  {
   "cell_type": "code",
   "execution_count": 6,
   "metadata": {},
   "outputs": [
    {
     "name": "stdout",
     "output_type": "stream",
     "text": [
      "r-squared value of Section One = 0.49040398243687666\n",
      "r-squared value of Section Two = 0.2944845478383303\n",
      "r-squared value of Section Three = 0.03960432580551528\n",
      "r-squared value of Section Four = 0.49999170029384604\n"
     ]
    }
   ],
   "source": [
    "sections = [\"one\", \"two\", \"three\", \"four\"]\n",
    "\n",
    "for sec in sections:\n",
    "    nlDF = lDF[lDF.lap_num != 1]\n",
    "\n",
    "    xVals = nlDF[f\"{sec}_scaled\"]\n",
    "    yVals = nlDF[\"lap_scaled\"]\n",
    "\n",
    "    (slope, intercept, rvalue, pvalue, stderr) = linregress(xVals, yVals)\n",
    "    print(f\"r-squared value of Section {sec.capitalize()} = {rvalue**2}\")"
   ]
  },
  {
   "cell_type": "code",
   "execution_count": null,
   "metadata": {},
   "outputs": [],
   "source": []
  }
 ],
 "metadata": {
  "kernelspec": {
   "display_name": "Python 3",
   "language": "python",
   "name": "python3"
  },
  "language_info": {
   "codemirror_mode": {
    "name": "ipython",
    "version": 3
   },
   "file_extension": ".py",
   "mimetype": "text/x-python",
   "name": "python",
   "nbconvert_exporter": "python",
   "pygments_lexer": "ipython3",
   "version": "3.8.5"
  }
 },
 "nbformat": 4,
 "nbformat_minor": 4
}
