{
 "cells": [
  {
   "cell_type": "code",
   "execution_count": 3,
   "metadata": {},
   "outputs": [
    {
     "name": "stdout",
     "output_type": "stream",
     "text": [
      "done\n"
     ]
    }
   ],
   "source": [
    "from D2_DataCleaningHelpers import *\n",
    "from lists import *\n",
    "\n",
    "print(\"done\")"
   ]
  },
  {
   "cell_type": "code",
   "execution_count": 5,
   "metadata": {},
   "outputs": [
    {
     "name": "stdout",
     "output_type": "stream",
     "text": [
      "1  93\n",
      "2  4\n",
      "3  99\n",
      "4  9\n",
      "\n",
      "2018-MotoGP-Rnd_11-PreRace.csv\n",
      "2018-MotoGP-Rnd_11-Result.csv\n",
      "couldn't retrieve grid: 2018, MotoGP, 12\n"
     ]
    },
    {
     "ename": "KeyboardInterrupt",
     "evalue": "",
     "output_type": "error",
     "traceback": [
      "\u001b[1;31m---------------------------------------------------------------------------\u001b[0m",
      "\u001b[1;31mKeyboardInterrupt\u001b[0m                         Traceback (most recent call last)",
      "\u001b[1;32m<ipython-input-5-5332378a69d6>\u001b[0m in \u001b[0;36m<module>\u001b[1;34m\u001b[0m\n\u001b[0;32m     67\u001b[0m                             \u001b[0mnueFrame\u001b[0m \u001b[1;33m=\u001b[0m \u001b[0mdf\u001b[0m\u001b[1;33m.\u001b[0m\u001b[0mjoin\u001b[0m\u001b[1;33m(\u001b[0m\u001b[0mgdf\u001b[0m\u001b[1;33m.\u001b[0m\u001b[0mset_index\u001b[0m\u001b[1;33m(\u001b[0m\u001b[1;34m'rdr_num'\u001b[0m\u001b[1;33m)\u001b[0m\u001b[1;33m,\u001b[0m \u001b[0mon\u001b[0m\u001b[1;33m=\u001b[0m\u001b[1;34m'rdr_num'\u001b[0m\u001b[1;33m)\u001b[0m\u001b[1;33m\u001b[0m\u001b[1;33m\u001b[0m\u001b[0m\n\u001b[0;32m     68\u001b[0m                             \u001b[0mprint\u001b[0m\u001b[1;33m(\u001b[0m\u001b[0mgrid\u001b[0m\u001b[1;33m)\u001b[0m\u001b[1;33m\u001b[0m\u001b[1;33m\u001b[0m\u001b[0m\n\u001b[1;32m---> 69\u001b[1;33m                         \u001b[1;32mraise\u001b[0m \u001b[0mKeyboardInterrupt\u001b[0m\u001b[1;33m\u001b[0m\u001b[1;33m\u001b[0m\u001b[0m\n\u001b[0m\u001b[0;32m     70\u001b[0m \u001b[1;33m\u001b[0m\u001b[0m\n\u001b[0;32m     71\u001b[0m \u001b[1;33m\u001b[0m\u001b[0m\n",
      "\u001b[1;31mKeyboardInterrupt\u001b[0m: "
     ]
    }
   ],
   "source": [
    "causeSes = [\"Q2\", \"Q1\", \"QP_\", \"QP1\", \"QP2\", \"FP1\", \"FP2\", \"FP3\", \"FP4\", \"EP\"]\n",
    "wupSes = [\"WUP\"]\n",
    "effectSes = [\"RACE\", \"RACE1\", \"RACE2\", \"RAC\", \"RAC1\", \"RAC2\"]\n",
    "sRnds = [\"1\", \"2\", \"3\", \"4\", \"5\", \"6\", \"7\", \"8\", \"9\", \"0\"]\n",
    "\n",
    "allRounds = []\n",
    "\n",
    "yrs = [\"2018\"]\n",
    "rnds = [\"11\", \"12\", \"13\"]\n",
    "\n",
    "for yr in yrs:\n",
    "    for lge in lges[:1]:\n",
    "        for rnd in rnds:\n",
    "            gotQ = False\n",
    "            files = getFiles(csvSesDir, f\"{yr}-{lge}-Round_{rnd}-*.csv\")\n",
    "            \n",
    "            if len(files) > 0:\n",
    "                try:\n",
    "                    grid = getGrid(yr, lge, rnd)\n",
    "                    gdf = pd.DataFrame.from_dict(grid)\n",
    "                    gotGrid = True\n",
    "                except:\n",
    "                    gotGrid = False\n",
    "\n",
    "                causeFrames = []\n",
    "                effectFrames = []\n",
    "\n",
    "                for file in files:\n",
    "                    race = False\n",
    "                    if \"RAC\" in file:\n",
    "                        race = True\n",
    "                        print(\"\")\n",
    "                    \n",
    "                    if gotGrid == False:\n",
    "                        print(f\"couldn't retrieve grid: {yr}, {lge}, {rnd}\")\n",
    "                    \n",
    "                    df = pd.read_csv(file)\n",
    "                    df['rdr_num'] = df['rdr_num'].astype(int)\n",
    "                    appended = False\n",
    "\n",
    "                    if gotGrid == True:\n",
    "                        nueFrame = df.join(gdf.set_index('rdr_num'), on = 'rdr_num')\n",
    "                    else:\n",
    "                        if \"Q1\" in file:\n",
    "                            Q1Res = getQRes(file)\n",
    "                        elif \"QP1\" in file:\n",
    "                            Q1Res = getQRes(file)\n",
    "\n",
    "                        elif \"Q2\" in file:\n",
    "                            Q2Res = getQRes(file)\n",
    "                            if len(Q2Res) > 3:\n",
    "                                gotQ == True\n",
    "                        elif \"QP2\" in file:\n",
    "                            Q2Res = getQRes(file)\n",
    "                            if len(Q2Res) > 3:\n",
    "                                gotQ == True\n",
    "                        elif \"QP_\" in file:\n",
    "                            Q2Res = getQRes(file)\n",
    "                            if len(Q2Res) > 3:\n",
    "                                gotQ == True\n",
    "\n",
    "                        if gotQ == True:\n",
    "#                             if len(Q1Res) < 3:\n",
    "#                                 exit(\"what the fuck.  Line 343\")\n",
    "                            grid = getWholeQRes(Q2Res, Q1Res)\n",
    "                            gdf = pd.DataFrame.from_dict(grid)\n",
    "                            nueFrame = df.join(gdf.set_index('rdr_num'), on='rdr_num')\n",
    "                            print(grid)\n",
    "                        raise KeyboardInterrupt\n",
    "\n",
    "                    \n",
    "                    rdrs = df.rdr_num.unique()\n",
    "                    \n",
    "                    for rdr in rdrs:\n",
    "                        cols = [\"lap_seconds\", \"one_seconds\", \"two_seconds\", \"thr_seconds\", \"four_seconds\"]\n",
    "                        for col in cols:\n",
    "                            xdf = df.loc[df[\"rdr_num\"] == rdr]\n",
    "                            tdf = xdf.loc[~xdf[col].isnull()]\n",
    "\n",
    "                            lapStd = tdf[col].std()\n",
    "                            thrStd = lapStd * 3\n",
    "                            lapMean = tdf[col].mean()\n",
    "                            upLim = lapMean + thrStd\n",
    "                            loLim = lapMean - thrStd\n",
    "\n",
    "                            if race == True:\n",
    "                                nueFrame.loc[(df[\"rdr_num\"] == rdr) & (df[col] > upLim), col] = upLim\n",
    "                                nueFrame.loc[(df[\"rdr_num\"] == rdr) & (df[col] < loLim), col] = loLim\n",
    "                            xdf = df.loc[df[\"rdr_num\"] == rdr]\n",
    "                            tdf = xdf.loc[~xdf[col].isnull()]\n",
    "                            lapMean = tdf[col].mean()\n",
    "                            nueFrame.loc[(df[\"rdr_num\"] == rdr) & (df[col].isnull()), col] = lapMean\n",
    "                            \n",
    "                    nueFrame[\"lap_scaled\"] = nueFrame[\"lap_seconds\"] / nueFrame[\"lap_seconds\"].abs().max()\n",
    "                    nueFrame[\"one_scaled\"] = nueFrame[\"one_seconds\"] / nueFrame[\"one_seconds\"].abs().max()\n",
    "                    nueFrame[\"two_scaled\"] = nueFrame[\"two_seconds\"] / nueFrame[\"two_seconds\"].abs().max()\n",
    "                    nueFrame[\"thr_scaled\"] = nueFrame[\"thr_seconds\"] / nueFrame[\"thr_seconds\"].abs().max()\n",
    "                    nueFrame[\"fr_scaled\"] = nueFrame[\"four_seconds\"] / nueFrame[\"four_seconds\"].abs().max()\n",
    "\n",
    "                    for ses in causeSes:\n",
    "                        if ses in file:\n",
    "                            if appended == False:\n",
    "                                causeFrames.append(nueFrame)\n",
    "                                appended = True\n",
    "                    for ses in effectSes:\n",
    "                        if ses in file:\n",
    "                            if appended == False:\n",
    "                                effectFrames.append(nueFrame)\n",
    "                                appended = True\n",
    "\n",
    "                if rnd in sRnds: nRnd = f\"0{rnd}\"\n",
    "                else: nRnd = rnd\n",
    "\n",
    "                if len(causeFrames) > 0:\n",
    "                    cName = f\"{yr}-{lge}-Rnd_{nRnd}-PreRace.csv\"\n",
    "                    cFrame = pd.concat(causeFrames)\n",
    "                    cFrame.to_csv(f\"{csvFinalDir}{cName}\", index = False)\n",
    "                    print(cName)\n",
    "                    \n",
    "                if len(effectFrames) > 0:\n",
    "                    eName = f\"{yr}-{lge}-Rnd_{nRnd}-Result.csv\"\n",
    "                    eFrame = pd.concat(effectFrames)\n",
    "                    eFrame.to_csv(f\"{csvFinalDir}{eName}\", index = False)\n",
    "                    print(eName)\n",
    "                "
   ]
  },
  {
   "cell_type": "code",
   "execution_count": 6,
   "metadata": {},
   "outputs": [
    {
     "name": "stdout",
     "output_type": "stream",
     "text": [
      "{'start_pos': [1, 2, 3, 4, 5, 6, 7, 8, 9, 10, 11, 12, 13, 14, 15, 16, 17, 18, 19, 20, 21, 22, 23], 'rdr_num': [93, 4, 99, 9, 35, 5, 53, 29, 26, 42, 25, 19, 38, 46, 41, 43, 55, 10, 21, 45, 30, 12, 17]}\n"
     ]
    }
   ],
   "source": [
    "print(grid)"
   ]
  },
  {
   "cell_type": "code",
   "execution_count": null,
   "metadata": {},
   "outputs": [],
   "source": [
    "# df = thiRnd[\"eFrame\"]\n",
    "\n",
    "\n",
    "\n",
    "# sessions = df.session.unique()\n",
    "# rdrs = df.rdr_num.unique()\n",
    "\n",
    "# cols = [\"lap_seconds\", \"one_seconds\", \"two_seconds\", \"thr_seconds\", \"four_seconds\"]\n",
    "\n",
    "# for ses in sessions:\n",
    "#     for rdr in rdrs:\n",
    "#         for col in cols:\n",
    "#             xdf = df.loc[(df[\"session\"] == ses) & (df[\"rdr_num\"] == rdr)]\n",
    "#             tdf = xdf.loc[~xdf[col].isnull()]\n",
    "            \n",
    "#             lapStd = tdf[col].std()\n",
    "#             thrStd = lapStd * 3\n",
    "#             lapMean = tdf[col].mean()\n",
    "#             upLim = lapMean + thrStd\n",
    "#             loLim = lapMean - thrStd\n",
    "            \n",
    "            \n",
    "#             df.loc[(df[\"session\"] == ses) & (df[\"rdr_num\"] == rdr) & (df[col].isnull()), col] = lapMean\n",
    "#             df.loc[(df[\"session\"] == ses) & (df[\"rdr_num\"] == rdr) & (df[col] > upLim), col] = upLim\n",
    "#             df.loc[(df[\"session\"] == ses) & (df[\"rdr_num\"] == rdr) & (df[col] < loLim), col] = loLim\n",
    "\n",
    "                     \n",
    "# df.head()"
   ]
  },
  {
   "cell_type": "code",
   "execution_count": null,
   "metadata": {},
   "outputs": [],
   "source": [
    "# df[\"lap_scaled\"] = df[\"lap_seconds\"] / df[\"lap_seconds\"].abs().max()\n",
    "# df[\"one_scaled\"] = df[\"one_seconds\"] / df[\"one_seconds\"].abs().max()\n",
    "# df[\"two_scaled\"] = df[\"two_seconds\"] / df[\"two_seconds\"].abs().max()\n",
    "# df[\"thr_scaled\"] = df[\"thr_seconds\"] / df[\"thr_seconds\"].abs().max()\n",
    "# df[\"four_scaled\"] = df[\"four_seconds\"] / df[\"four_seconds\"].abs().max()\n"
   ]
  },
  {
   "cell_type": "code",
   "execution_count": null,
   "metadata": {},
   "outputs": [],
   "source": []
  },
  {
   "cell_type": "code",
   "execution_count": null,
   "metadata": {},
   "outputs": [],
   "source": []
  },
  {
   "cell_type": "code",
   "execution_count": null,
   "metadata": {},
   "outputs": [],
   "source": []
  }
 ],
 "metadata": {
  "kernelspec": {
   "display_name": "Python 3",
   "language": "python",
   "name": "python3"
  },
  "language_info": {
   "codemirror_mode": {
    "name": "ipython",
    "version": 3
   },
   "file_extension": ".py",
   "mimetype": "text/x-python",
   "name": "python",
   "nbconvert_exporter": "python",
   "pygments_lexer": "ipython3",
   "version": "3.8.5"
  }
 },
 "nbformat": 4,
 "nbformat_minor": 4
}
