{
 "cells": [
  {
   "cell_type": "code",
   "execution_count": 16,
   "metadata": {},
   "outputs": [
    {
     "name": "stdout",
     "output_type": "stream",
     "text": [
      "done\n"
     ]
    }
   ],
   "source": [
    "# pd.set_option(\"display.max_rows\", None, \"display.max_columns\", None)\n",
    "\n",
    "# nF = nFrame.drop([\"run_num\", \"f_tire\", \"r_tire\", \"laps_on_f\", \"laps_on_r\", \"pit\", \"lge\", \"rnd\", \"trk\", \"manu\", \"index\",\n",
    "#                   \"month\", \"day\", \"yr\", \"pos\", \"nat\", \"num_of_laps\", \"lap_num\", \"lap_time\", \"lap_val\", \"sec_one\", \"one_val\",\n",
    "#                   \"sec_two\", \"two_val\", \"sec_thr\", \"thr_val\", \"sec_four\", \"four_val\", \"avg_spd\"], axis = 1)\n",
    "\n",
    "# val = {\"result\": \"DNF\"}\n",
    "# xf = nF.fillna(value = val)\n",
    "# xf = xf[[\"session\", \"f_name\", \"l_name\", \"rdr_num\", \"team\", \"lap_seconds\", \"lap_scaled\", \"one_seconds\", \"one_scaled\",\n",
    "#          \"two_seconds\", \"two_scaled\", \"thr_seconds\", \"thr_scaled\", \"four_seconds\", \"fr_scaled\", \"start_pos\", \"result\"]]\n",
    "\n",
    "# yf = xf.sort_values(by=[\"session\", \"result\"])\n",
    "\n",
    "# yf\n",
    "\n",
    "\n",
    "\n",
    "\n",
    "\n",
    "# define current year and round\n",
    "thisYr = 2021\n",
    "lstYr = thisYr - 1\n",
    "thisRnd = \"13\"\n",
    "thisTrk = \"Misano\"\n",
    "\n",
    "print(\"done\")"
   ]
  },
  {
   "cell_type": "code",
   "execution_count": 17,
   "metadata": {},
   "outputs": [
    {
     "name": "stdout",
     "output_type": "stream",
     "text": [
      "done\n"
     ]
    }
   ],
   "source": [
    "# Imports and definitions\n",
    "import numpy as np\n",
    "from IPython.display import clear_output\n",
    "from E2_AnalysisHelpers import *\n",
    "%matplotlib inline\n",
    "import matplotlib as mpl\n",
    "mpl.rc('axes', labelsize=14)\n",
    "mpl.rc('xtick', labelsize=12)\n",
    "mpl.rc('ytick', labelsize=12)\n",
    "import matplotlib.pyplot as plt\n",
    "from scipy.stats import linregress\n",
    "from sklearn import datasets\n",
    "\n",
    "rnds = [\"1\", \"2\", \"3\", \"4\", \"5\", \"6\", \"7\", \"8\", \"9\", \"10\", \"11\", \"12\", \"13\",\n",
    "        \"14\", \"15\", \"16\", \"17\", \"18\", \"19\", \"20\", \"21\", \"22\", \"23\", \"24\", \"25\"]\n",
    "yrs = [\"2020\", \"2019\", \"2018\", \"2017\", \"2016\", \"2015\", \"2014\", \"2013\",\n",
    "       \"2012\", \"2011\", \"2010\", \"2009\", \"2008\", \"2007\", \"2006\"]\n",
    "# \n",
    "\n",
    "print(\"done\")"
   ]
  },
  {
   "cell_type": "code",
   "execution_count": 19,
   "metadata": {},
   "outputs": [
    {
     "name": "stdout",
     "output_type": "stream",
     "text": [
      "done\n"
     ]
    }
   ],
   "source": [
    "for yr in yrs:\n",
    "    files = getFiles(csvFinalDir, f\"{yr}-MotoGP-Rnd_*-{thisTrk}-Result.csv\")\n",
    "    if len(files) > 0: break\n",
    "\n",
    "file = files[-1]\n",
    "df = pd.read_csv(file)\n",
    "\n",
    "print(\"done\")"
   ]
  },
  {
   "cell_type": "code",
   "execution_count": 22,
   "metadata": {},
   "outputs": [
    {
     "name": "stdout",
     "output_type": "stream",
     "text": [
      "done\n"
     ]
    }
   ],
   "source": [
    "lDF = df.drop([\"run_num\", 'index', 'month', 'day', 'f_tire', 'r_tire', 'laps_on_f', 'laps_on_r',\n",
    "               'f_name', 'l_name', 'nat', 'num_of_laps', 'avg_spd', 'start_pos', 'one_val',\n",
    "               'two_val', 'thr_val', 'four_val', 'lap_time', 'lap_val', 'pit', 'sec_one', 'sec_two',\n",
    "               'sec_thr', 'sec_four', \"one_seconds\", \"two_seconds\", \"thr_seconds\", \n",
    "               \"four_seconds\"], axis = 1)\n",
    "\n",
    "lDF = lDF.rename(columns={\"fr_scaled\": \"four_scaled\", \"thr_scaled\": \"three_scaled\"})\n",
    "\n",
    "lDF = lDF[lDF[\"lap_scaled\"].notna()]\n",
    "lDF = lDF[lDF[\"one_scaled\"].notna()]\n",
    "lDF = lDF[lDF[\"two_scaled\"].notna()]\n",
    "lDF = lDF[lDF[\"three_scaled\"].notna()]\n",
    "lDF = lDF[lDF[\"four_scaled\"].notna()]\n",
    "\n",
    "print(\"done\")"
   ]
  },
  {
   "cell_type": "code",
   "execution_count": 23,
   "metadata": {},
   "outputs": [
    {
     "name": "stdout",
     "output_type": "stream",
     "text": [
      "done\n"
     ]
    }
   ],
   "source": [
    "laps = lDF.lap_num.unique()\n",
    "laps.sort()\n",
    "tireLaps = laps[3:]\n",
    "nlDF = lDF[lDF.lap_num > 2]\n",
    "nlDF = nlDF[nlDF.lap_scaled != 1]\n",
    "nlDF = nlDF[nlDF.one_scaled != 1]\n",
    "nlDF = nlDF[nlDF.two_scaled != 1]\n",
    "nlDF = nlDF[nlDF.three_scaled != 1]\n",
    "nlDF = nlDF[nlDF.four_scaled != 1]\n",
    "means = []\n",
    "xLaps = []\n",
    "\n",
    "for lap in tireLaps:\n",
    "    lapDF = nlDF.loc[nlDF[\"lap_num\"] == lap]\n",
    "    lapDF = lapDF[lapDF[\"lap_seconds\"].notna()]\n",
    "\n",
    "    mean = float(lapDF[[\"lap_seconds\"]].mean())\n",
    "    means.append(mean)\n",
    "    xLaps.append(lap)\n",
    "    print(f\"{lap}   {mean}\")\n",
    "\n",
    "clear_output(wait=True)\n",
    "print(\"done\")"
   ]
  },
  {
   "cell_type": "code",
   "execution_count": 24,
   "metadata": {},
   "outputs": [
    {
     "data": {
      "image/png": "[encoded data removed]",
      "text/plain": [
       "<Figure size 432x288 with 1 Axes>"
      ]
     },
     "metadata": {
      "needs_background": "light"
     },
     "output_type": "display_data"
    }
   ],
   "source": [
    "mpl.rc('axes', labelsize=14)\n",
    "mpl.rc('xtick', labelsize=12)\n",
    "mpl.rc('ytick', labelsize=12)\n",
    "\n",
    "aLaps = np.array(xLaps)\n",
    "aMeans = np.array(means)\n",
    "\n",
    "plt.plot(aLaps, aMeans)\n",
    "plt.xlabel(f\"Lap Number\")\n",
    "plt.ylabel(\"Average Normalized Performance\")\n",
    "maximum = tireLaps.max()\n",
    "minimum = tireLaps.min()\n",
    "lis = [minimum]\n",
    "x = 5\n",
    "while x < maximum:\n",
    "    lis.append(x)\n",
    "    x = x + 5\n",
    "plt.title(\"Averaged Tire Wear from Lap #3 to Finish\")\n",
    "plt.xticks(lis)\n",
    "plt.show()"
   ]
  },
  {
   "cell_type": "code",
   "execution_count": null,
   "metadata": {},
   "outputs": [],
   "source": [
    "mpl.rc('axes', labelsize=14)\n",
    "mpl.rc('xtick', labelsize=12)\n",
    "mpl.rc('ytick', labelsize=12)\n",
    "\n",
    "sections = [\"one\", \"two\", \"three\", \"four\"]\n",
    "\n",
    "for sec in sections:\n",
    "    xVals = nlDF[f\"{sec}_scaled\"]\n",
    "    yVals = nlDF[\"lap_scaled\"]\n",
    "\n",
    "    (slope, intercept, rvalue, pvalue, stderr) = linregress(xVals, yVals)\n",
    "    print(f\"r-squared value of Section {sec.capitalize()} = {rvalue**2}\")"
   ]
  },
  {
   "cell_type": "code",
   "execution_count": null,
   "metadata": {},
   "outputs": [],
   "source": []
  },
  {
   "cell_type": "code",
   "execution_count": null,
   "metadata": {},
   "outputs": [],
   "source": []
  },
  {
   "cell_type": "code",
   "execution_count": null,
   "metadata": {},
   "outputs": [],
   "source": []
  },
  {
   "cell_type": "code",
   "execution_count": null,
   "metadata": {},
   "outputs": [],
   "source": []
  },
  {
   "cell_type": "code",
   "execution_count": null,
   "metadata": {},
   "outputs": [],
   "source": []
  },
  {
   "cell_type": "code",
   "execution_count": null,
   "metadata": {},
   "outputs": [],
   "source": []
  },
  {
   "cell_type": "code",
   "execution_count": null,
   "metadata": {},
   "outputs": [],
   "source": []
  },
  {
   "cell_type": "code",
   "execution_count": null,
   "metadata": {},
   "outputs": [],
   "source": []
  },
  {
   "cell_type": "code",
   "execution_count": 3,
   "metadata": {},
   "outputs": [
    {
     "name": "stdout",
     "output_type": "stream",
     "text": [
      "--------------------------------\n",
      "sessions and weather merged\n",
      "--------------------------------\n"
     ]
    }
   ],
   "source": [
    "# collate all pre-race dataframes, and add column of race finishing positions\n",
    "pas = \"empty\"\n",
    "dF = []\n",
    "\n",
    "print(\"--------------------------------\\ngetting dataframes and collating\\n--------------------------------\")\n",
    "for yr in yrs:\n",
    "    print(\"   \" + yr)\n",
    "    dF, pas = getWholeFrame(pas, dF, yr)\n",
    "\n",
    "# add weather\n",
    "wF = mergeWeather(dF)\n",
    "\n",
    "clear_output(wait=True)\n",
    "print(\"--------------------------------\\nsessions and weather merged\\n--------------------------------\")"
   ]
  },
  {
   "cell_type": "code",
   "execution_count": 4,
   "metadata": {},
   "outputs": [
    {
     "ename": "IndexError",
     "evalue": "index -1 is out of bounds for axis 0 with size 0",
     "output_type": "error",
     "traceback": [
      "\u001b[1;31m---------------------------------------------------------------------------\u001b[0m",
      "\u001b[1;31mIndexError\u001b[0m                                Traceback (most recent call last)",
      "\u001b[1;32m<ipython-input-4-b25bf3f9dbcb>\u001b[0m in \u001b[0;36m<module>\u001b[1;34m\u001b[0m\n\u001b[0;32m      9\u001b[0m \u001b[0mlastDF\u001b[0m \u001b[1;33m=\u001b[0m \u001b[0mnf\u001b[0m\u001b[1;33m.\u001b[0m\u001b[0mloc\u001b[0m\u001b[1;33m[\u001b[0m\u001b[1;33m(\u001b[0m\u001b[0mnf\u001b[0m\u001b[1;33m[\u001b[0m\u001b[1;34m\"yr\"\u001b[0m\u001b[1;33m]\u001b[0m \u001b[1;33m==\u001b[0m \u001b[0mlstYr\u001b[0m\u001b[1;33m)\u001b[0m \u001b[1;33m&\u001b[0m \u001b[1;33m(\u001b[0m\u001b[0mnf\u001b[0m\u001b[1;33m[\u001b[0m\u001b[1;34m\"trk\"\u001b[0m\u001b[1;33m]\u001b[0m \u001b[1;33m==\u001b[0m \u001b[0mthisTrk\u001b[0m\u001b[1;33m)\u001b[0m\u001b[1;33m]\u001b[0m\u001b[1;33m\u001b[0m\u001b[1;33m\u001b[0m\u001b[0m\n\u001b[0;32m     10\u001b[0m \u001b[0mlstRnds\u001b[0m \u001b[1;33m=\u001b[0m \u001b[0mlastDF\u001b[0m\u001b[1;33m.\u001b[0m\u001b[0mrnd\u001b[0m\u001b[1;33m.\u001b[0m\u001b[0munique\u001b[0m\u001b[1;33m(\u001b[0m\u001b[1;33m)\u001b[0m\u001b[1;33m\u001b[0m\u001b[1;33m\u001b[0m\u001b[0m\n\u001b[1;32m---> 11\u001b[1;33m \u001b[0mlstRnd\u001b[0m \u001b[1;33m=\u001b[0m \u001b[0mlstRnds\u001b[0m\u001b[1;33m[\u001b[0m\u001b[1;33m-\u001b[0m\u001b[1;36m1\u001b[0m\u001b[1;33m]\u001b[0m\u001b[1;33m\u001b[0m\u001b[1;33m\u001b[0m\u001b[0m\n\u001b[0m\u001b[0;32m     12\u001b[0m \u001b[0mlstRnd\u001b[0m\u001b[1;33m\u001b[0m\u001b[1;33m\u001b[0m\u001b[0m\n",
      "\u001b[1;31mIndexError\u001b[0m: index -1 is out of bounds for axis 0 with size 0"
     ]
    }
   ],
   "source": [
    "# determine what year was last year and create a dataframe of last years results at the subject track\n",
    "nf = wF\n",
    "thisYr = int(thisYr)\n",
    "thisRnd = int(thisRnd)\n",
    "recentDF = nf.loc[(nf[\"yr\"] == thisYr) & (nf[\"rnd\"] == thisRnd)]\n",
    "lstYr = int(thisYr) - 1\n",
    "thisTrk = recentDF[\"trk\"].iloc[0]\n",
    "\n",
    "lastDF = nf.loc[(nf[\"yr\"] == lstYr) & (nf[\"trk\"] == thisTrk)]\n",
    "lstRnds = lastDF.rnd.unique()\n",
    "lstRnd = lstRnds[-1]\n",
    "lstRnd"
   ]
  },
  {
   "cell_type": "code",
   "execution_count": null,
   "metadata": {},
   "outputs": [],
   "source": [
    "files = getFiles(csvFinalDir, f\"{thisYr - 1}-MotoGP-Rnd_*-{thisTrk}-Result.csv\")\n",
    "fullFrame = pd.read_csv(files[-1])\n",
    "lDF = fullFrame.drop([\"run_num\", 'index', 'month', 'day', 'f_tire', 'r_tire', 'laps_on_f', 'laps_on_r', 'f_name', 'l_name', 'nat',\n",
    "                   'num_of_laps', 'avg_spd', 'start_pos', 'one_val', 'two_val', 'thr_val', 'four_val', 'lap_time',\n",
    "                   'lap_val', 'pit', 'sec_one', 'sec_two', 'sec_thr', 'sec_four', \"one_seconds\", \"two_seconds\", \"thr_seconds\", \n",
    "                    \"four_seconds\"], axis = 1)\n",
    "\n",
    "lDF = lDF.rename(columns={\"fr_scaled\": \"four_scaled\", \"thr_scaled\": \"three_scaled\"})\n",
    "\n",
    "lDF = lDF[lDF[\"lap_scaled\"].notna()]\n",
    "lDF = lDF[lDF[\"one_scaled\"].notna()]\n",
    "lDF = lDF[lDF[\"two_scaled\"].notna()]\n",
    "lDF = lDF[lDF[\"three_scaled\"].notna()]\n",
    "lDF = lDF[lDF[\"four_scaled\"].notna()]\n",
    "\n",
    "print(\"done\")"
   ]
  },
  {
   "cell_type": "code",
   "execution_count": null,
   "metadata": {},
   "outputs": [],
   "source": [
    "laps = lDF.lap_num.unique()\n",
    "laps.sort()\n",
    "tireLaps = laps[3:]\n",
    "nlDF = lDF[lDF.lap_num > 2]\n",
    "nlDF = nlDF[nlDF.lap_scaled != 1]\n",
    "nlDF = nlDF[nlDF.one_scaled != 1]\n",
    "nlDF = nlDF[nlDF.two_scaled != 1]\n",
    "nlDF = nlDF[nlDF.three_scaled != 1]\n",
    "nlDF = nlDF[nlDF.four_scaled != 1]\n",
    "means = []\n",
    "xLaps = []\n",
    "\n",
    "for lap in tireLaps:\n",
    "    lapDF = nlDF.loc[nlDF[\"lap_num\"] == lap]\n",
    "    lapDF = lapDF[lapDF[\"lap_seconds\"].notna()]\n",
    "\n",
    "    mean = float(lapDF[[\"lap_seconds\"]].mean())\n",
    "    means.append(mean)\n",
    "    xLaps.append(lap)\n",
    "    print(f\"{lap}   {mean}\")\n",
    "\n",
    "clear_output(wait=True)\n",
    "print(\"done\")"
   ]
  },
  {
   "cell_type": "code",
   "execution_count": null,
   "metadata": {},
   "outputs": [],
   "source": [
    "mpl.rc('axes', labelsize=14)\n",
    "mpl.rc('xtick', labelsize=12)\n",
    "mpl.rc('ytick', labelsize=12)\n",
    "\n",
    "aLaps = np.array(xLaps)\n",
    "aMeans = np.array(means)\n",
    "\n",
    "plt.plot(aLaps, aMeans)\n",
    "plt.xlabel(f\"Lap Number\")\n",
    "plt.ylabel(\"Average Normalized Performance\")\n",
    "maximum = tireLaps.max()\n",
    "minimum = tireLaps.min()\n",
    "lis = [minimum]\n",
    "x = 5\n",
    "while x < maximum:\n",
    "    lis.append(x)\n",
    "    x = x + 5\n",
    "plt.title(\"Averaged Tire Wear from Lap #3 to Finish\")\n",
    "plt.xticks(lis)\n",
    "plt.show()"
   ]
  },
  {
   "cell_type": "code",
   "execution_count": null,
   "metadata": {},
   "outputs": [],
   "source": [
    "mpl.rc('axes', labelsize=14)\n",
    "mpl.rc('xtick', labelsize=12)\n",
    "mpl.rc('ytick', labelsize=12)\n",
    "\n",
    "################################################################################################################################\n",
    "# get R value of the track section one\n",
    "\n",
    "    # r values are hugely dependent on removing outliers\n",
    "    # this needs to be taken into consideration\n",
    "\n",
    "sections = [\"one\", \"two\", \"three\", \"four\"]\n",
    "\n",
    "for sec in sections:\n",
    "    xVals = nlDF[f\"{sec}_scaled\"]\n",
    "    yVals = nlDF[\"lap_scaled\"]\n",
    "\n",
    "    (slope, intercept, rvalue, pvalue, stderr) = linregress(xVals, yVals)\n",
    "    print(f\"r-squared value of Section {sec.capitalize()} = {rvalue**2}\")\n",
    "# regress_values = xVals * slope + intercept\n",
    "\n",
    "# plt.scatter(xVals, yVals)\n",
    "# plt.plot(xVals, regress_values, \"r-\")\n",
    "# line_eq = \"y = \" + str(round(slope, 2)) + \"x + \" + str(round(intercept, 2))\n",
    "# plt.annotate(line_eq,(.5,.945),fontsize=15,color=\"red\")\n",
    "\n",
    "# plt.xlabel(f\"Section {sec.capitalize()} performance (section one scaled)\")\n",
    "# plt.ylabel(\"Over-All Lap Performance (lower is better)\")\n",
    "\n",
    "# fig = plt.gcf()\n",
    "# fig.set_size_inches(7.5, 5.5)\n",
    "\n",
    "# plt.show()\n",
    "################################################################################################################################\n",
    "\n",
    "# plotting code:\n",
    "#         nlDF = lDF[lDF.lap_num != 1]\n",
    "#         sec = \"one\"\n",
    "\n",
    "#         xVals = nlDF[f\"{sec}_scaled\"]\n",
    "#         yVals = nlDF[\"lap_scaled\"]\n",
    "\n",
    "#         (slope, intercept, rvalue, pvalue, stderr) = linregress(xVals, yVals)\n",
    "#         regress_values = xVals * slope + intercept\n",
    "\n",
    "#         plt.scatter(xVals, yVals)\n",
    "#         plt.plot(xVals, regress_values, \"r-\")\n",
    "#         line_eq = \"y = \" + str(round(slope, 2)) + \"x + \" + str(round(intercept, 2))\n",
    "#         plt.annotate(line_eq,(.5,.945),fontsize=15,color=\"red\")\n",
    "\n",
    "#         plt.xlabel(f\"Section {sec.capitalize()} performance (section one scaled)\")\n",
    "#         plt.ylabel(\"Over-All Lap Performance (lower is better)\")\n",
    "\n",
    "#         print(f\"r-squared value of Section {sec.capitalize()} = {rvalue**2}\")\n",
    "#         fig = plt.gcf()\n",
    "#         fig.set_size_inches(7.5, 5.5)\n",
    "#         plt.show()\n"
   ]
  },
  {
   "cell_type": "code",
   "execution_count": null,
   "metadata": {},
   "outputs": [],
   "source": [
    "mpl.rc('axes', labelsize=14)\n",
    "mpl.rc('xtick', labelsize=12)\n",
    "mpl.rc('ytick', labelsize=12)\n",
    "\n",
    "sec = \"one\"\n",
    "\n",
    "xVals = nlDF[f\"{sec}_scaled\"]\n",
    "yVals = nlDF[\"lap_scaled\"]\n",
    "\n",
    "(slope, intercept, rvalue, pvalue, stderr) = linregress(xVals, yVals)\n",
    "regress_values = xVals * slope + intercept\n",
    "\n",
    "plt.scatter(xVals, yVals)\n",
    "plt.plot(xVals, regress_values, \"r-\")\n",
    "line_eq = \"y = \" + str(round(slope, 2)) + \"x + \" + str(round(intercept, 2))\n",
    "plt.annotate(line_eq,(.5,.945),fontsize=15,color=\"red\")\n",
    "\n",
    "plt.xlabel(f\"Section {sec.capitalize()} performance (section one scaled)\")\n",
    "plt.ylabel(\"Over-All Lap Performance (lower is better)\")\n",
    "\n",
    "print(f\"r-squared value of Section {sec.capitalize()} = {rvalue**2}\")\n",
    "fig = plt.gcf()\n",
    "fig.set_size_inches(7.5, 5.5)\n",
    "plt.show()\n",
    "\n",
    "print(len(xVals))\n",
    "print(len(yVals))"
   ]
  },
  {
   "cell_type": "code",
   "execution_count": null,
   "metadata": {},
   "outputs": [],
   "source": [
    "mpl.rc('axes', labelsize=14)\n",
    "mpl.rc('xtick', labelsize=12)\n",
    "mpl.rc('ytick', labelsize=12)\n",
    "\n",
    "sec = \"two\"\n",
    "\n",
    "xVals = nlDF[f\"{sec}_scaled\"]\n",
    "yVals = nlDF[\"lap_scaled\"]\n",
    "\n",
    "(slope, intercept, rvalue, pvalue, stderr) = linregress(xVals, yVals)\n",
    "regress_values = xVals * slope + intercept\n",
    "\n",
    "plt.scatter(xVals, yVals)\n",
    "plt.plot(xVals, regress_values, \"r-\")\n",
    "line_eq = \"y = \" + str(round(slope, 2)) + \"x + \" + str(round(intercept, 2))\n",
    "plt.annotate(line_eq,(.5,.945),fontsize=15,color=\"red\")\n",
    "\n",
    "plt.xlabel(f\"Section {sec.capitalize()} performance (section one scaled)\")\n",
    "plt.ylabel(\"Over-All Lap Performance (lower is better)\")\n",
    "\n",
    "print(f\"r-squared value of Section {sec.capitalize()} = {rvalue**2}\")\n",
    "fig = plt.gcf()\n",
    "fig.set_size_inches(7.5, 5.5)\n",
    "plt.show()"
   ]
  },
  {
   "cell_type": "code",
   "execution_count": null,
   "metadata": {},
   "outputs": [],
   "source": [
    "mpl.rc('axes', labelsize=14)\n",
    "mpl.rc('xtick', labelsize=12)\n",
    "mpl.rc('ytick', labelsize=12)\n",
    "\n",
    "sec = \"three\"\n",
    "\n",
    "xVals = nlDF[f\"{sec}_scaled\"]\n",
    "yVals = nlDF[\"lap_scaled\"]\n",
    "\n",
    "(slope, intercept, rvalue, pvalue, stderr) = linregress(xVals, yVals)\n",
    "regress_values = xVals * slope + intercept\n",
    "\n",
    "plt.scatter(xVals, yVals)\n",
    "plt.plot(xVals, regress_values, \"r-\")\n",
    "line_eq = \"y = \" + str(round(slope, 2)) + \"x + \" + str(round(intercept, 2))\n",
    "plt.annotate(line_eq,(.5,.945),fontsize=15,color=\"red\")\n",
    "\n",
    "plt.xlabel(f\"Section {sec.capitalize()} performance (section one scaled)\")\n",
    "plt.ylabel(\"Over-All Lap Performance (lower is better)\")\n",
    "\n",
    "print(f\"r-squared value of Section {sec.capitalize()} = {rvalue**2}\")\n",
    "fig = plt.gcf()\n",
    "fig.set_size_inches(7.5, 5.5)\n",
    "plt.show()"
   ]
  },
  {
   "cell_type": "code",
   "execution_count": null,
   "metadata": {},
   "outputs": [],
   "source": [
    "mpl.rc('axes', labelsize=14)\n",
    "mpl.rc('xtick', labelsize=12)\n",
    "mpl.rc('ytick', labelsize=12)\n",
    "\n",
    "sec = \"four\"\n",
    "\n",
    "xVals = nlDF[f\"{sec}_scaled\"]\n",
    "yVals = nlDF[\"lap_scaled\"]\n",
    "\n",
    "(slope, intercept, rvalue, pvalue, stderr) = linregress(xVals, yVals)\n",
    "regress_values = xVals * slope + intercept\n",
    "\n",
    "plt.scatter(xVals, yVals)\n",
    "plt.plot(xVals, regress_values, \"r-\")\n",
    "line_eq = \"y = \" + str(round(slope, 2)) + \"x + \" + str(round(intercept, 2))\n",
    "plt.annotate(line_eq,(.5,.945),fontsize=15,color=\"red\")\n",
    "\n",
    "plt.xlabel(f\"Section {sec.capitalize()} performance (section one scaled)\")\n",
    "plt.ylabel(\"Over-All Lap Performance (lower is better)\")\n",
    "\n",
    "print(f\"r-squared value of Section {sec.capitalize()} = {rvalue**2}\")\n",
    "fig = plt.gcf()\n",
    "fig.set_size_inches(7.5, 5.5)\n",
    "plt.show()"
   ]
  },
  {
   "cell_type": "code",
   "execution_count": null,
   "metadata": {},
   "outputs": [],
   "source": [
    "# nlDF.groupby(\"manu\", as_index = False)[\"three_scaled\"].mean()"
   ]
  },
  {
   "cell_type": "code",
   "execution_count": null,
   "metadata": {},
   "outputs": [],
   "source": []
  },
  {
   "cell_type": "code",
   "execution_count": null,
   "metadata": {},
   "outputs": [],
   "source": []
  }
 ],
 "metadata": {
  "kernelspec": {
   "display_name": "Python 3",
   "language": "python",
   "name": "python3"
  },
  "language_info": {
   "codemirror_mode": {
    "name": "ipython",
    "version": 3
   },
   "file_extension": ".py",
   "mimetype": "text/x-python",
   "name": "python",
   "nbconvert_exporter": "python",
   "pygments_lexer": "ipython3",
   "version": "3.8.5"
  }
 },
 "nbformat": 4,
 "nbformat_minor": 4
}
