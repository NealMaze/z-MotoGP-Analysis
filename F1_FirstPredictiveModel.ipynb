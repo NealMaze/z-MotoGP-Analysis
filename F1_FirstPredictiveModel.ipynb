{
 "cells": [
  {
   "cell_type": "code",
   "execution_count": 1,
   "metadata": {},
   "outputs": [],
   "source": [
    "###########################################################################################\n",
    "#     THERE IS A MASSIVE DATA NORMALIZATION PROBLEM IN AT LEAST THE RESULTS DATA SETS     #\n",
    "###########################################################################################\n",
    "\n",
    "# define current year and round\n",
    "thisYr = \"2021\"\n",
    "thisRnd = \"16\"\n",
    "\n",
    "print(\"done\")"
   ]
  },
  {
   "cell_type": "code",
   "execution_count": 2,
   "metadata": {},
   "outputs": [
    {
     "name": "stdout",
     "output_type": "stream",
     "text": [
      "done\n"
     ]
    }
   ],
   "source": [
    "# Imports and definitions\n",
    "import numpy as np\n",
    "from IPython.display import clear_output\n",
    "from E2_AnalysisHelpers import *\n",
    "%matplotlib inline\n",
    "import matplotlib as mpl\n",
    "mpl.rc('axes', labelsize=14)\n",
    "mpl.rc('xtick', labelsize=12)\n",
    "mpl.rc('ytick', labelsize=12)\n",
    "from scipy.stats import linregress\n",
    "import sklearn\n",
    "import matplotlib.pyplot as plt\n",
    "import sklearn.linear_model\n",
    "from sklearn.model_selection import train_test_split as setSplit\n",
    "\n",
    "rnds = [\"1\", \"2\", \"3\", \"4\", \"5\", \"6\", \"7\", \"8\", \"9\", \"10\", \"11\", \"12\", \"13\",\n",
    "        \"14\", \"15\", \"16\", \"17\", \"18\", \"19\", \"20\", \"21\", \"22\", \"23\", \"24\", \"25\"]\n",
    "yrs = [\"2021\",\"2020\", \"2019\", \"2018\", \"2017\", \"2016\", \"2015\", \"2014\", \"2013\", \"2012\"]\n",
    "#, \"2011\", \"2010\", \"2009\" , \"2008\", \"2007\", \"2006\"\n",
    "\n",
    "print(\"done\")"
   ]
  },
  {
   "cell_type": "code",
   "execution_count": 3,
   "metadata": {},
   "outputs": [
    {
     "name": "stdout",
     "output_type": "stream",
     "text": [
      "---------------------------\n",
      "sessions and weather merged\n",
      "---------------------------\n"
     ]
    }
   ],
   "source": [
    "# collate all pre-race dataframes, and add column of race finishing positions\n",
    "pas = \"empty\"\n",
    "dF = []\n",
    "\n",
    "print(\"--------------------------------\\ngetting dataframes and collating\\n--------------------------------\")\n",
    "for yr in yrs:\n",
    "    print(\"   \" + yr)\n",
    "    dF, pas = getWholeFrame(pas, dF, yr)\n",
    "\n",
    "# add weather\n",
    "wF = mergeWeather(dF)\n",
    "wF = wF.drop([\"nat\", \"manu\", \"run_num\", \"laps_on_f\", \"laps_on_r\", \"lap_time\", \"lap_val\", \"pit\", \"sec_one\", \"one_seconds\",\n",
    "              \"one_val\", \"sec_two\", \"two_seconds\", \"two_val\", \"sec_thr\", \"thr_seconds\", \"thr_val\", \"sec_four\", \"four_seconds\",\n",
    "              \"four_val\", \"avg_spd\"], axis=1)\n",
    "\n",
    "clear_output(wait=True)\n",
    "print(\"---------------------------\\nsessions and weather merged\\n---------------------------\")"
   ]
  },
  {
   "cell_type": "code",
   "execution_count": 4,
   "metadata": {},
   "outputs": [
    {
     "name": "stdout",
     "output_type": "stream",
     "text": [
      "-------------\n",
      "result merged\n",
      "-------------\n"
     ]
    }
   ],
   "source": [
    "frames = []\n",
    "\n",
    "files = getFiles(csvFinalDir, f\"*Result.csv\")\n",
    "for file in files:\n",
    "    print(file)\n",
    "    df = pd.read_csv(file)\n",
    "    races = df.session.unique()\n",
    "    if \"RAC3\" in races:\n",
    "        df = df.loc[df[\"session\"] == \"RAC3\"]\n",
    "    elif \"RAC2\" in races:\n",
    "        df = df.loc[df[\"session\"] == \"RAC2\"]\n",
    "    elif \"RAC1\" in races:\n",
    "        df = df.loc[df[\"session\"] == \"RAC1\"]\n",
    "    frames.append(df)\n",
    "    del df\n",
    "\n",
    "rF = pd.concat(frames)\n",
    "rF = rF[[\"yr\", \"lge\", \"rnd\", \"rdr_num\", \"pos\"]].copy()\n",
    "\n",
    "rF[\"yr\"] = rF[\"yr\"].astype(int)\n",
    "rF[\"rnd\"] = rF[\"rnd\"].astype(int)\n",
    "rF[\"rdr_num\"] = rF[\"rdr_num\"].astype(int)\n",
    "\n",
    "wF[\"yr\"] = wF[\"yr\"].astype(int)\n",
    "wF[\"rnd\"] = wF[\"rnd\"].astype(int)\n",
    "wF[\"rdr_num\"] = wF[\"rdr_num\"].astype(int)\n",
    "\n",
    "cF = pd.merge(wF, rF, how = \"left\",\n",
    "                      left_on = [\"yr\", \"lge\", \"rnd\", \"rdr_num\"],\n",
    "                      right_on = [\"yr\", \"lge\", \"rnd\", \"rdr_num\"])\n",
    "del wF\n",
    "del rF\n",
    "del frames\n",
    "del files\n",
    "\n",
    "clear_output(wait=True)\n",
    "print(\"-------------\\nresult merged\\n-------------\")"
   ]
  },
  {
   "cell_type": "code",
   "execution_count": 5,
   "metadata": {},
   "outputs": [],
   "source": [
    "# FRAME:\n",
    "# supervised\n",
    "# multiple regression?\n",
    "# batch learning\n",
    "\n",
    "trainSet, testSet = setSplit(cF, test_size = 0.1, random_state = 42)"
   ]
  },
  {
   "cell_type": "code",
   "execution_count": 6,
   "metadata": {},
   "outputs": [
    {
     "name": "stdout",
     "output_type": "stream",
     "text": [
      "done\n"
     ]
    }
   ],
   "source": [
    "trainSet = trainSet.dropna()\n",
    "testSet = testSet.dropna()\n",
    "\n",
    "testSetPreRace = testSet.drop(\"result\", axis = 1)\n",
    "testSetLabels = testSet[\"result\"].copy()\n",
    "\n",
    "print(\"done\")"
   ]
  },
  {
   "cell_type": "code",
   "execution_count": null,
   "metadata": {},
   "outputs": [],
   "source": []
  },
  {
   "cell_type": "code",
   "execution_count": null,
   "metadata": {},
   "outputs": [],
   "source": []
  },
  {
   "cell_type": "code",
   "execution_count": null,
   "metadata": {},
   "outputs": [],
   "source": []
  },
  {
   "cell_type": "code",
   "execution_count": null,
   "metadata": {},
   "outputs": [],
   "source": []
  }
 ],
 "metadata": {
  "kernelspec": {
   "display_name": "Python 3",
   "language": "python",
   "name": "python3"
  },
  "language_info": {
   "codemirror_mode": {
    "name": "ipython",
    "version": 3
   },
   "file_extension": ".py",
   "mimetype": "text/x-python",
   "name": "python",
   "nbconvert_exporter": "python",
   "pygments_lexer": "ipython3",
   "version": "3.8.5"
  }
 },
 "nbformat": 4,
 "nbformat_minor": 4
}
