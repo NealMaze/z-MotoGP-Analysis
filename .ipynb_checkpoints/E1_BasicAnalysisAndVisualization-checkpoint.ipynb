{
 "cells": [
  {
   "cell_type": "code",
   "execution_count": 1,
   "metadata": {},
   "outputs": [
    {
     "name": "stdout",
     "output_type": "stream",
     "text": [
      "done\n"
     ]
    }
   ],
   "source": [
    "###########################################################################################\n",
    "#     THERE IS A MASSIVE DATA NORMALIZATION PROBLEM IN AT LEAST THE RESULTS DATA SETS     #\n",
    "###########################################################################################\n",
    "\n",
    "# define current year and round\n",
    "thisYr = \"2021\"\n",
    "thisRnd = \"16\"\n",
    "\n",
    "print(\"done\")"
   ]
  },
  {
   "cell_type": "code",
   "execution_count": 2,
   "metadata": {},
   "outputs": [
    {
     "name": "stdout",
     "output_type": "stream",
     "text": [
      "done\n"
     ]
    }
   ],
   "source": [
    "# Imports and definitions\n",
    "import numpy as np\n",
    "from IPython.display import clear_output\n",
    "from E2_AnalysisHelpers import *\n",
    "%matplotlib inline\n",
    "import matplotlib as mpl\n",
    "mpl.rc('axes', labelsize=14)\n",
    "mpl.rc('xtick', labelsize=12)\n",
    "mpl.rc('ytick', labelsize=12)\n",
    "import matplotlib.pyplot as plt\n",
    "from scipy.stats import linregress\n",
    "from sklearn import datasets\n",
    "\n",
    "rnds = [\"1\", \"2\", \"3\", \"4\", \"5\", \"6\", \"7\", \"8\", \"9\", \"10\", \"11\", \"12\", \"13\",\n",
    "        \"14\", \"15\", \"16\", \"17\", \"18\", \"19\", \"20\", \"21\", \"22\", \"23\", \"24\", \"25\"]\n",
    "yrs = [\"2021\", \"2020\"]\n",
    "# , \"2019\", \"2018\", \"2017\", \"2016\", \"2015\", \"2014\", \"2013\", \"2012\", \"2011\", \"2010\", \"2009\", \"2008\", \"2007\", \"2006\"\n",
    "\n",
    "print(\"done\")"
   ]
  },
  {
   "cell_type": "code",
   "execution_count": 3,
   "metadata": {},
   "outputs": [
    {
     "name": "stdout",
     "output_type": "stream",
     "text": [
      "--------------------------------\n",
      "sessions and weather merged\n",
      "--------------------------------\n",
      "\n"
     ]
    }
   ],
   "source": [
    "# collate all pre-race dataframes, and add column of race finishing positions\n",
    "pas = \"empty\"\n",
    "dF = []\n",
    "\n",
    "print(\"--------------------------------\\ngetting dataframes and collating\\n--------------------------------\\n\")\n",
    "for yr in yrs:\n",
    "    print(\"   \" + yr)\n",
    "    dF, pas = getWholeFrame(pas, dF, yr)\n",
    "\n",
    "# add weather\n",
    "wF = mergeWeather(dF)\n",
    "\n",
    "clear_output(wait=True)\n",
    "print(\"--------------------------------\\nsessions and weather merged\\n--------------------------------\\n\")"
   ]
  },
  {
   "cell_type": "code",
   "execution_count": 4,
   "metadata": {},
   "outputs": [
    {
     "data": {
      "text/plain": [
       "8"
      ]
     },
     "execution_count": 4,
     "metadata": {},
     "output_type": "execute_result"
    }
   ],
   "source": [
    "# determine what year was last year and create a dataframe of last years results at the subject track\n",
    "nf = wF\n",
    "thisYr = int(thisYr)\n",
    "thisRnd = int(thisRnd)\n",
    "recentDF = nf.loc[(nf[\"yr\"] == thisYr) & (nf[\"rnd\"] == thisRnd)]\n",
    "lstYr = int(thisYr) - 1\n",
    "thisTrk = recentDF[\"trk\"].iloc[0]\n",
    "\n",
    "lastDF = nf.loc[(nf[\"yr\"] == lstYr) & (nf[\"trk\"] == thisTrk)]\n",
    "lstRnds = lastDF.rnd.unique()\n",
    "lstRnd = lstRnds[-1]\n",
    "lstRnd"
   ]
  },
  {
   "cell_type": "code",
   "execution_count": 5,
   "metadata": {},
   "outputs": [
    {
     "name": "stdout",
     "output_type": "stream",
     "text": [
      "done\n"
     ]
    }
   ],
   "source": [
    "files = getFiles(csvFinalDir, f\"{lstYr}-MotoGP-Rnd_{lstRnd}-Result.csv\")\n",
    "fullFrame = pd.read_csv(files[-1])\n",
    "lDF = fullFrame.drop([\"run_num\", 'index', 'month', 'day', 'f_tire', 'r_tire', 'laps_on_f', 'laps_on_r', 'f_name', 'l_name', 'nat',\n",
    "                   'num_of_laps', 'avg_spd', 'start_pos', 'one_val', 'two_val', 'thr_val', 'four_val', 'lap_time',\n",
    "                   'lap_val', 'pit', 'sec_one', 'sec_two', 'sec_thr', 'sec_four', \"one_seconds\", \"two_seconds\", \"thr_seconds\", \n",
    "                    \"four_seconds\"], axis = 1)\n",
    "\n",
    "lDF = lDF.rename(columns={\"fr_scaled\": \"four_scaled\", \"thr_scaled\": \"three_scaled\"})\n",
    "\n",
    "# code is only relevent to yr 2020, rnd \n",
    "lDF = lDF[lDF.lap_scaled < .85]\n",
    "lDF = lDF[lDF.one_scaled < .7]\n",
    "lDF = lDF[lDF.two_scaled < .56]\n",
    "lDF = lDF[lDF.three_scaled < .85]\n",
    "lDF = lDF[lDF.four_scaled < .55]\n",
    "#################################################\n",
    "\n",
    "lDF = lDF[lDF[\"lap_scaled\"].notna()]\n",
    "lDF = lDF[lDF[\"one_scaled\"].notna()]\n",
    "lDF = lDF[lDF[\"two_scaled\"].notna()]\n",
    "lDF = lDF[lDF[\"three_scaled\"].notna()]\n",
    "lDF = lDF[lDF[\"four_scaled\"].notna()]\n",
    "\n",
    "print(\"done\")"
   ]
  },
  {
   "cell_type": "code",
   "execution_count": 6,
   "metadata": {},
   "outputs": [
    {
     "name": "stdout",
     "output_type": "stream",
     "text": [
      "done\n"
     ]
    }
   ],
   "source": [
    "lapNums = []\n",
    "laps = lDF.lap_num.unique()\n",
    "laps.sort()\n",
    "nlDF = lDF\n",
    "for lap in laps[:-1]: lapNums.append(lap)\n",
    "means = []\n",
    "xLaps = []\n",
    "\n",
    "for lap in lapNums:\n",
    "    lapDF = nlDF.loc[nlDF[\"lap_num\"] == lap]\n",
    "    lapDF = lapDF[lapDF[\"lap_seconds\"].notna()]\n",
    "\n",
    "    mean = float(lapDF[[\"lap_seconds\"]].mean())\n",
    "    means.append(mean)\n",
    "    xLaps.append(lap)\n",
    "    print(f\"{lap}   {mean}\")\n",
    "\n",
    "clear_output(wait=True)\n",
    "print(\"done\")"
   ]
  },
  {
   "cell_type": "code",
   "execution_count": 7,
   "metadata": {},
   "outputs": [
    {
     "data": {
      "image/png": "[encoded data removed]",
      "text/plain": [
       "<Figure size 432x288 with 1 Axes>"
      ]
     },
     "metadata": {
      "needs_background": "light"
     },
     "output_type": "display_data"
    }
   ],
   "source": [
    "aLaps = np.array(xLaps)\n",
    "aMeans = np.array(means)\n",
    "\n",
    "plt.plot(aLaps, aMeans)\n",
    "plt.show()"
   ]
  },
  {
   "cell_type": "code",
   "execution_count": 8,
   "metadata": {},
   "outputs": [
    {
     "name": "stdout",
     "output_type": "stream",
     "text": [
      "r-squared value of Section One = 0.6759051899382476\n",
      "r-squared value of Section Two = 0.5175813416979453\n",
      "r-squared value of Section Three = 0.5866732188068237\n",
      "r-squared value of Section Four = 0.5241577144971512\n"
     ]
    }
   ],
   "source": [
    "################################################################################################################################\n",
    "# get R value of the track section one\n",
    "\n",
    "    # r values are hugely dependent on removing outliers\n",
    "    # this needs to be taken into consideration\n",
    "\n",
    "sections = [\"one\", \"two\", \"three\", \"four\"]\n",
    "\n",
    "for sec in sections:\n",
    "    nlDF = lDF[lDF.lap_num != 1]\n",
    "\n",
    "    xVals = nlDF[f\"{sec}_scaled\"]\n",
    "    yVals = nlDF[\"lap_scaled\"]\n",
    "\n",
    "    (slope, intercept, rvalue, pvalue, stderr) = linregress(xVals, yVals)\n",
    "    print(f\"r-squared value of Section {sec.capitalize()} = {rvalue**2}\")\n",
    "# regress_values = xVals * slope + intercept\n",
    "\n",
    "# plt.scatter(xVals, yVals)\n",
    "# plt.plot(xVals, regress_values, \"r-\")\n",
    "# line_eq = \"y = \" + str(round(slope, 2)) + \"x + \" + str(round(intercept, 2))\n",
    "# plt.annotate(line_eq,(.5,.945),fontsize=15,color=\"red\")\n",
    "\n",
    "# plt.xlabel(f\"Section {sec.capitalize()} performance (section one scaled)\")\n",
    "# plt.ylabel(\"Over-All Lap Performance (lower is better)\")\n",
    "\n",
    "# fig = plt.gcf()\n",
    "# fig.set_size_inches(7.5, 5.5)\n",
    "\n",
    "# plt.show()\n",
    "################################################################################################################################\n",
    "\n",
    "# plotting code:\n",
    "#         nlDF = lDF[lDF.lap_num != 1]\n",
    "#         sec = \"one\"\n",
    "\n",
    "#         xVals = nlDF[f\"{sec}_scaled\"]\n",
    "#         yVals = nlDF[\"lap_scaled\"]\n",
    "\n",
    "#         (slope, intercept, rvalue, pvalue, stderr) = linregress(xVals, yVals)\n",
    "#         regress_values = xVals * slope + intercept\n",
    "\n",
    "#         plt.scatter(xVals, yVals)\n",
    "#         plt.plot(xVals, regress_values, \"r-\")\n",
    "#         line_eq = \"y = \" + str(round(slope, 2)) + \"x + \" + str(round(intercept, 2))\n",
    "#         plt.annotate(line_eq,(.5,.945),fontsize=15,color=\"red\")\n",
    "\n",
    "#         plt.xlabel(f\"Section {sec.capitalize()} performance (section one scaled)\")\n",
    "#         plt.ylabel(\"Over-All Lap Performance (lower is better)\")\n",
    "\n",
    "#         print(f\"r-squared value of Section {sec.capitalize()} = {rvalue**2}\")\n",
    "#         fig = plt.gcf()\n",
    "#         fig.set_size_inches(7.5, 5.5)\n",
    "#         plt.show()\n"
   ]
  },
  {
   "cell_type": "code",
   "execution_count": null,
   "metadata": {},
   "outputs": [],
   "source": []
  },
  {
   "cell_type": "code",
   "execution_count": null,
   "metadata": {},
   "outputs": [],
   "source": []
  },
  {
   "cell_type": "code",
   "execution_count": null,
   "metadata": {},
   "outputs": [],
   "source": []
  },
  {
   "cell_type": "code",
   "execution_count": 9,
   "metadata": {},
   "outputs": [
    {
     "data": {
      "text/html": [
       "<div>\n",
       "<style scoped>\n",
       "    .dataframe tbody tr th:only-of-type {\n",
       "        vertical-align: middle;\n",
       "    }\n",
       "\n",
       "    .dataframe tbody tr th {\n",
       "        vertical-align: top;\n",
       "    }\n",
       "\n",
       "    .dataframe thead th {\n",
       "        text-align: right;\n",
       "    }\n",
       "</style>\n",
       "<table border=\"1\" class=\"dataframe\">\n",
       "  <thead>\n",
       "    <tr style=\"text-align: right;\">\n",
       "      <th></th>\n",
       "      <th>manu</th>\n",
       "      <th>three_scaled</th>\n",
       "    </tr>\n",
       "  </thead>\n",
       "  <tbody>\n",
       "    <tr>\n",
       "      <th>0</th>\n",
       "      <td>Aprilia</td>\n",
       "      <td>0.811908</td>\n",
       "    </tr>\n",
       "    <tr>\n",
       "      <th>1</th>\n",
       "      <td>Ducati</td>\n",
       "      <td>0.808311</td>\n",
       "    </tr>\n",
       "    <tr>\n",
       "      <th>2</th>\n",
       "      <td>Honda</td>\n",
       "      <td>0.804270</td>\n",
       "    </tr>\n",
       "    <tr>\n",
       "      <th>3</th>\n",
       "      <td>KTM</td>\n",
       "      <td>0.805858</td>\n",
       "    </tr>\n",
       "    <tr>\n",
       "      <th>4</th>\n",
       "      <td>Suzuki</td>\n",
       "      <td>0.809687</td>\n",
       "    </tr>\n",
       "    <tr>\n",
       "      <th>5</th>\n",
       "      <td>Yamaha</td>\n",
       "      <td>0.804640</td>\n",
       "    </tr>\n",
       "  </tbody>\n",
       "</table>\n",
       "</div>"
      ],
      "text/plain": [
       "      manu  three_scaled\n",
       "0  Aprilia      0.811908\n",
       "1   Ducati      0.808311\n",
       "2    Honda      0.804270\n",
       "3      KTM      0.805858\n",
       "4   Suzuki      0.809687\n",
       "5   Yamaha      0.804640"
      ]
     },
     "execution_count": 9,
     "metadata": {},
     "output_type": "execute_result"
    }
   ],
   "source": [
    "nlDF = lDF[lDF.lap_num != 1]\n",
    "nlDF = nlDF[nlDF.rnd != 7]\n",
    "nlDF.groupby(\"manu\", as_index = False)[\"three_scaled\"].mean()"
   ]
  },
  {
   "cell_type": "code",
   "execution_count": 10,
   "metadata": {},
   "outputs": [],
   "source": [
    "# pd.set_option(\"display.max_rows\", None, \"display.max_columns\", None)\n",
    "\n",
    "# nF = nFrame.drop([\"run_num\", \"f_tire\", \"r_tire\", \"laps_on_f\", \"laps_on_r\", \"pit\", \"lge\", \"rnd\", \"trk\", \"manu\", \"index\",\n",
    "#                   \"month\", \"day\", \"yr\", \"pos\", \"nat\", \"num_of_laps\", \"lap_num\", \"lap_time\", \"lap_val\", \"sec_one\", \"one_val\",\n",
    "#                   \"sec_two\", \"two_val\", \"sec_thr\", \"thr_val\", \"sec_four\", \"four_val\", \"avg_spd\"], axis = 1)\n",
    "\n",
    "# val = {\"result\": \"DNF\"}\n",
    "# xf = nF.fillna(value = val)\n",
    "# xf = xf[[\"session\", \"f_name\", \"l_name\", \"rdr_num\", \"team\", \"lap_seconds\", \"lap_scaled\", \"one_seconds\", \"one_scaled\",\n",
    "#          \"two_seconds\", \"two_scaled\", \"thr_seconds\", \"thr_scaled\", \"four_seconds\", \"fr_scaled\", \"start_pos\", \"result\"]]\n",
    "\n",
    "# yf = xf.sort_values(by=[\"session\", \"result\"])\n",
    "\n",
    "# yf"
   ]
  }
 ],
 "metadata": {
  "kernelspec": {
   "display_name": "Python 3",
   "language": "python",
   "name": "python3"
  },
  "language_info": {
   "codemirror_mode": {
    "name": "ipython",
    "version": 3
   },
   "file_extension": ".py",
   "mimetype": "text/x-python",
   "name": "python",
   "nbconvert_exporter": "python",
   "pygments_lexer": "ipython3",
   "version": "3.8.5"
  }
 },
 "nbformat": 4,
 "nbformat_minor": 4
}
