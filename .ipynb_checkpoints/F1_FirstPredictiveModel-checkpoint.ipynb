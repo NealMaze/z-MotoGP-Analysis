{
 "cells": [
  {
   "cell_type": "code",
   "execution_count": 1,
   "metadata": {},
   "outputs": [],
   "source": [
    "###########################################################################################\n",
    "#     THERE IS A MASSIVE DATA NORMALIZATION PROBLEM IN AT LEAST THE RESULTS DATA SETS     #\n",
    "###########################################################################################\n",
    "\n",
    "# define current year and round\n",
    "thisYr = \"2021\"\n",
    "thisRnd = \"16\"\n",
    "\n",
    "print(\"done\")"
   ]
  },
  {
   "cell_type": "code",
   "execution_count": 2,
   "metadata": {},
   "outputs": [
    {
     "name": "stdout",
     "output_type": "stream",
     "text": [
      "done\n"
     ]
    }
   ],
   "source": [
    "# Imports and definitions\n",
    "import numpy as np\n",
    "from IPython.display import clear_output\n",
    "from E2_AnalysisHelpers import *\n",
    "from matplotlib import pyplot as plt\n",
    "from scipy.stats import linregress\n",
    "from sklearn import datasets\n",
    "\n",
    "rnds = [\"1\", \"2\", \"3\", \"4\", \"5\", \"6\", \"7\", \"8\", \"9\", \"10\", \"11\", \"12\", \"13\",\n",
    "        \"14\", \"15\", \"16\", \"17\", \"18\", \"19\", \"20\", \"21\", \"22\", \"23\", \"24\", \"25\"]\n",
    "yrs = [\"2021\", \"2020\", \"2019\", \"2018\", \"2017\", \"2016\", \"2015\", \"2014\",\n",
    "       \"2013\", \"2012\", \"2011\", \"2010\", \"2009\", \"2008\", \"2007\", \"2006\"]\n",
    "\n",
    "print(\"done\")"
   ]
  },
  {
   "cell_type": "code",
   "execution_count": 3,
   "metadata": {},
   "outputs": [
    {
     "name": "stdout",
     "output_type": "stream",
     "text": [
      "--------------------------------\n",
      "sessions and weather merged\n",
      "--------------------------------\n",
      "\n"
     ]
    }
   ],
   "source": [
    "# collate all pre-race dataframes, and add column of race finishing positions\n",
    "pas = \"empty\"\n",
    "dF = []\n",
    "\n",
    "print(\"--------------------------------\\ngetting dataframes and collating\\n--------------------------------\\n\")\n",
    "for yr in yrs:\n",
    "    print(\"   \" + yr)\n",
    "    dF, pas = getWholeFrame(pas, dF, yr)\n",
    "\n",
    "# add weather\n",
    "wF = mergeWeather(dF)\n",
    "\n",
    "clear_output(wait=True)\n",
    "print(\"--------------------------------\\nsessions and weather merged\\n--------------------------------\\n\")"
   ]
  },
  {
   "cell_type": "code",
   "execution_count": 4,
   "metadata": {},
   "outputs": [],
   "source": [
    "# FRAME:\n",
    "# supervised\n",
    "# multiple regression?\n",
    "# batch learning for now..."
   ]
  },
  {
   "cell_type": "code",
   "execution_count": null,
   "metadata": {},
   "outputs": [],
   "source": []
  }
 ],
 "metadata": {
  "kernelspec": {
   "display_name": "Python 3",
   "language": "python",
   "name": "python3"
  },
  "language_info": {
   "codemirror_mode": {
    "name": "ipython",
    "version": 3
   },
   "file_extension": ".py",
   "mimetype": "text/x-python",
   "name": "python",
   "nbconvert_exporter": "python",
   "pygments_lexer": "ipython3",
   "version": "3.8.5"
  }
 },
 "nbformat": 4,
 "nbformat_minor": 4
}
