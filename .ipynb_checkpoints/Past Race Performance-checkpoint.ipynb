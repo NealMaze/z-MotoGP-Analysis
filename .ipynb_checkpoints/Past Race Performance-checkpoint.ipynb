{
 "cells": [
  {
   "cell_type": "code",
   "execution_count": 1,
   "metadata": {},
   "outputs": [
    {
     "name": "stdout",
     "output_type": "stream",
     "text": [
      "2021\n",
      "18\n",
      "Valencia\n"
     ]
    }
   ],
   "source": [
    "from E2_AnalysisHelpers import *\n",
    "\n",
    "# define current year, round, and track\n",
    "thisYr = 2021\n",
    "thisRnd = 18\n",
    "thisTrk = getFiles(csvSesDir, f\"{thisYr}-MotoGP-Round_{thisRnd}-*.csv\")[0].replace(csvSesDir, \"\").split(\"-\")[3]\n",
    "\n",
    "print(thisYr)\n",
    "print(thisRnd)\n",
    "print(thisTrk)"
   ]
  },
  {
   "cell_type": "code",
   "execution_count": 2,
   "metadata": {},
   "outputs": [
    {
     "name": "stdout",
     "output_type": "stream",
     "text": [
      "done\n"
     ]
    }
   ],
   "source": [
    "# Imports and definitions\n",
    "import numpy as np\n",
    "from IPython.display import clear_output\n",
    "%matplotlib inline\n",
    "import matplotlib as mpl\n",
    "from scipy.stats import linregress\n",
    "import matplotlib.pyplot as plt\n",
    "mpl.rc('axes', labelsize=14)\n",
    "mpl.rc('xtick', labelsize=12)\n",
    "mpl.rc('ytick', labelsize=12)\n",
    "\n",
    "# import sklearn\n",
    "# import sklearn.linear_model\n",
    "# from sklearn.model_selection import train_test_split as setSplit\n",
    "\n",
    "rnds = [\"1\", \"2\", \"3\", \"4\", \"5\", \"6\", \"7\", \"8\", \"9\", \"10\", \"11\", \"12\", \"13\",\n",
    "        \"14\", \"15\", \"16\", \"17\", \"18\", \"19\", \"20\", \"21\", \"22\", \"23\", \"24\", \"25\"]\n",
    "yrs = [\"2021\",\"2020\", \"2019\", \"2018\", \"2017\", \"2016\", \"2015\", \"2014\", \"2013\",\n",
    "       \"2012\", \"2011\", \"2010\", \"2009\" , \"2008\", \"2007\", \"2006\"]\n",
    "\n",
    "# calculate year ranges and get active track\n",
    "loYr = thisYr - 5\n",
    "yrRng = range(loYr, thisYr + 1)\n",
    "\n",
    "print(\"done\")"
   ]
  },
  {
   "cell_type": "code",
   "execution_count": 3,
   "metadata": {},
   "outputs": [
    {
     "name": "stdout",
     "output_type": "stream",
     "text": [
      "done\n"
     ]
    }
   ],
   "source": [
    "pracFiles = getFiles(csvSesDir, f\"{thisYr}-MotoGP-Round_{thisRnd}-*-FP*.csv\")\n",
    "frames = []\n",
    "\n",
    "# create dataframe for each file in pracFiles\n",
    "for file in pracFiles:\n",
    "    df = pd.read_csv(file)\n",
    "    frames.append(df)\n",
    "\n",
    "df = pd.concat(frames)\n",
    "\n",
    "bCols = [\"lap_val\", \"pit\", \"one_val\", \"two_val\", \"thr_val\", \"four_val\", \"avg_spd\"]\n",
    "for col in bCols:\n",
    "    df = df[df[col] != \"FALSE\"]\n",
    "    df = df[df[col].notna()]\n",
    "\n",
    "print(\"done\")"
   ]
  },
  {
   "cell_type": "code",
   "execution_count": 4,
   "metadata": {
    "scrolled": true
   },
   "outputs": [
    {
     "name": "stdout",
     "output_type": "stream",
     "text": [
      "done\n"
     ]
    }
   ],
   "source": [
    "rdrs = df.rdr_num.unique()\n",
    "practices = [\"FP1\", \"FP2\", \"FP3\", \"FP4\"]\n",
    "lets = [\"st\", \"nd\", \"rd\", \"th\"]\n",
    "positions = range(0, 51)\n",
    "pointsPro = [25, 20, 16, 13, 11, 10, 9, 8, 7, 6, 5, 4, 3, 2, 1, 0, 0, 0, \n",
    "             0, 0, 0, 0, 0, 0, 0, 0, 0, 0, 0, 0, 0, 0, 0, 0, 0, 0, 0, 0,\n",
    "             0, 0, 0, 0, 0, 0, 0, 0, 0, 0, 0, 0, 0, 0, 0, 0, 0, 0, 0, 0,\n",
    "             0, 0, 0, 0, 0, 0, 0, 0, 0, 0, 0, 0, 0, 0, 0, 0, 0, 0, 0, 0]\n",
    "\n",
    "# rdrNums = []\n",
    "# rdrTimes = []\n",
    "# rdrImpr = []\n",
    "# rdrPoints = []\n",
    "rdrDicts = []\n",
    "\n",
    "for rdr in rdrs:\n",
    "    tempFrame = df.loc[df[\"rdr_num\"] == rdr]\n",
    "    f_name = tempFrame[\"f_name\"].iloc[0]\n",
    "    l_name = tempFrame[\"l_name\"].iloc[0]\n",
    "        \n",
    "    rndPoints = 0\n",
    "    times = []\n",
    "    pLis = []        \n",
    "        \n",
    "    for prac in practices:\n",
    "        rdrFr = df.loc[(df[\"rdr_num\"] == rdr) & (df[\"session\"] == prac)]\n",
    "        rdrFr = rdrFr.nsmallest(5, \"lap_seconds\")\n",
    "\n",
    "        try:\n",
    "            pos = rdrFr[\"pos\"].iloc[0]\n",
    "        except:\n",
    "            pos = \"20\"\n",
    "            \n",
    "        for i in lets:\n",
    "            pos = pos.replace(i, \"\")\n",
    "        pos = int(pos) - 1\n",
    "        points = pointsPro[pos]\n",
    "        pLis.append(points)\n",
    "        rndPoints = rndPoints + points\n",
    "        \n",
    "        avgTime = rdrFr[\"lap_seconds\"].mean()\n",
    "        times.append(avgTime)\n",
    "    \n",
    "    rdrDict = {\"rdr_num\": rdr, \"f_name\": f_name, \"l_name\": l_name,\n",
    "               \"FP1_avg_time\": times[0], \"FP1_points\": pLis[0],\n",
    "               \"FP2_avg_time\": times[1], \"FP2_points\": pLis[1],\n",
    "               \"FP3_avg_time\": times[2], \"FP3_points\": pLis[2],\n",
    "               \"FP4_avg_time\": times[3], \"FP4_points\": pLis[3],\n",
    "               \"improve\": (pLis[3] - pLis[0]), \"avg_points\": (rndPoints / 4),\n",
    "               \"best_rider\": ((rndPoints / 4) + (pLis[3] - pLis[0]))}\n",
    "    rdrDicts.append(rdrDict)\n",
    "\n",
    "finFr = pd.DataFrame(rdrDicts)\n",
    "rdrId = df[[\"rdr_num\", \"manu\", \"f_name\", \"l_name\", \"nat\"]]\n",
    "rdrId = rdrId.drop_duplicates()\n",
    "print(\"done\")"
   ]
  },
  {
   "cell_type": "code",
   "execution_count": 5,
   "metadata": {},
   "outputs": [],
   "source": [
    "mostImproved = finFr.sort_values(by = [\"improve\"], ascending = False).head(3)\n",
    "mostImproved = mostImproved[[\"rdr_num\", \"f_name\", \"l_name\", \"improve\"]]\n",
    "\n",
    "mostSteady = finFr.sort_values(by = [\"avg_points\"], ascending = False).head(3)\n",
    "mostSteady = mostSteady[[\"rdr_num\", \"f_name\", \"l_name\", \"avg_points\"]]\n",
    "\n",
    "combined = finFr.sort_values(by = [\"best_rider\"], ascending = False).head(3)\n",
    "combined = combined[[\"rdr_num\", \"f_name\", \"l_name\", \"best_rider\"]]\n",
    "\n",
    "bestFour = finFr.sort_values(by = [\"best_rider\"], ascending = False).head(3)\n",
    "bestFour = bestFour[[\"rdr_num\", \"f_name\", \"l_name\", \"FP4_points\"]]\n"
   ]
  },
  {
   "cell_type": "code",
   "execution_count": 6,
   "metadata": {},
   "outputs": [
    {
     "data": {
      "text/html": [
       "<div>\n",
       "<style scoped>\n",
       "    .dataframe tbody tr th:only-of-type {\n",
       "        vertical-align: middle;\n",
       "    }\n",
       "\n",
       "    .dataframe tbody tr th {\n",
       "        vertical-align: top;\n",
       "    }\n",
       "\n",
       "    .dataframe thead th {\n",
       "        text-align: right;\n",
       "    }\n",
       "</style>\n",
       "<table border=\"1\" class=\"dataframe\">\n",
       "  <thead>\n",
       "    <tr style=\"text-align: right;\">\n",
       "      <th></th>\n",
       "      <th>rdr_num</th>\n",
       "      <th>f_name</th>\n",
       "      <th>l_name</th>\n",
       "      <th>improve</th>\n",
       "    </tr>\n",
       "  </thead>\n",
       "  <tbody>\n",
       "    <tr>\n",
       "      <th>9</th>\n",
       "      <td>30</td>\n",
       "      <td>takaaki</td>\n",
       "      <td>nakagami</td>\n",
       "      <td>19</td>\n",
       "    </tr>\n",
       "    <tr>\n",
       "      <th>14</th>\n",
       "      <td>20</td>\n",
       "      <td>fabio</td>\n",
       "      <td>quartararo</td>\n",
       "      <td>19</td>\n",
       "    </tr>\n",
       "    <tr>\n",
       "      <th>10</th>\n",
       "      <td>42</td>\n",
       "      <td>alex</td>\n",
       "      <td>rins</td>\n",
       "      <td>11</td>\n",
       "    </tr>\n",
       "  </tbody>\n",
       "</table>\n",
       "</div>"
      ],
      "text/plain": [
       "    rdr_num   f_name      l_name  improve\n",
       "9        30  takaaki    nakagami       19\n",
       "14       20    fabio  quartararo       19\n",
       "10       42     alex        rins       11"
      ]
     },
     "execution_count": 6,
     "metadata": {},
     "output_type": "execute_result"
    }
   ],
   "source": [
    "mostImproved"
   ]
  },
  {
   "cell_type": "code",
   "execution_count": 7,
   "metadata": {},
   "outputs": [
    {
     "data": {
      "text/html": [
       "<div>\n",
       "<style scoped>\n",
       "    .dataframe tbody tr th:only-of-type {\n",
       "        vertical-align: middle;\n",
       "    }\n",
       "\n",
       "    .dataframe tbody tr th {\n",
       "        vertical-align: top;\n",
       "    }\n",
       "\n",
       "    .dataframe thead th {\n",
       "        text-align: right;\n",
       "    }\n",
       "</style>\n",
       "<table border=\"1\" class=\"dataframe\">\n",
       "  <thead>\n",
       "    <tr style=\"text-align: right;\">\n",
       "      <th></th>\n",
       "      <th>rdr_num</th>\n",
       "      <th>f_name</th>\n",
       "      <th>l_name</th>\n",
       "      <th>avg_points</th>\n",
       "    </tr>\n",
       "  </thead>\n",
       "  <tbody>\n",
       "    <tr>\n",
       "      <th>1</th>\n",
       "      <td>43</td>\n",
       "      <td>jack</td>\n",
       "      <td>miller</td>\n",
       "      <td>16.5</td>\n",
       "    </tr>\n",
       "    <tr>\n",
       "      <th>5</th>\n",
       "      <td>63</td>\n",
       "      <td>francesco</td>\n",
       "      <td>bagnaia</td>\n",
       "      <td>13.0</td>\n",
       "    </tr>\n",
       "    <tr>\n",
       "      <th>9</th>\n",
       "      <td>30</td>\n",
       "      <td>takaaki</td>\n",
       "      <td>nakagami</td>\n",
       "      <td>12.5</td>\n",
       "    </tr>\n",
       "  </tbody>\n",
       "</table>\n",
       "</div>"
      ],
      "text/plain": [
       "   rdr_num     f_name    l_name  avg_points\n",
       "1       43       jack    miller        16.5\n",
       "5       63  francesco   bagnaia        13.0\n",
       "9       30    takaaki  nakagami        12.5"
      ]
     },
     "execution_count": 7,
     "metadata": {},
     "output_type": "execute_result"
    }
   ],
   "source": [
    "mostSteady"
   ]
  },
  {
   "cell_type": "code",
   "execution_count": 8,
   "metadata": {},
   "outputs": [
    {
     "data": {
      "text/html": [
       "<div>\n",
       "<style scoped>\n",
       "    .dataframe tbody tr th:only-of-type {\n",
       "        vertical-align: middle;\n",
       "    }\n",
       "\n",
       "    .dataframe tbody tr th {\n",
       "        vertical-align: top;\n",
       "    }\n",
       "\n",
       "    .dataframe thead th {\n",
       "        text-align: right;\n",
       "    }\n",
       "</style>\n",
       "<table border=\"1\" class=\"dataframe\">\n",
       "  <thead>\n",
       "    <tr style=\"text-align: right;\">\n",
       "      <th></th>\n",
       "      <th>rdr_num</th>\n",
       "      <th>f_name</th>\n",
       "      <th>l_name</th>\n",
       "      <th>best_rider</th>\n",
       "    </tr>\n",
       "  </thead>\n",
       "  <tbody>\n",
       "    <tr>\n",
       "      <th>9</th>\n",
       "      <td>30</td>\n",
       "      <td>takaaki</td>\n",
       "      <td>nakagami</td>\n",
       "      <td>31.50</td>\n",
       "    </tr>\n",
       "    <tr>\n",
       "      <th>14</th>\n",
       "      <td>20</td>\n",
       "      <td>fabio</td>\n",
       "      <td>quartararo</td>\n",
       "      <td>27.25</td>\n",
       "    </tr>\n",
       "    <tr>\n",
       "      <th>10</th>\n",
       "      <td>42</td>\n",
       "      <td>alex</td>\n",
       "      <td>rins</td>\n",
       "      <td>20.75</td>\n",
       "    </tr>\n",
       "  </tbody>\n",
       "</table>\n",
       "</div>"
      ],
      "text/plain": [
       "    rdr_num   f_name      l_name  best_rider\n",
       "9        30  takaaki    nakagami       31.50\n",
       "14       20    fabio  quartararo       27.25\n",
       "10       42     alex        rins       20.75"
      ]
     },
     "execution_count": 8,
     "metadata": {},
     "output_type": "execute_result"
    }
   ],
   "source": [
    "combined"
   ]
  },
  {
   "cell_type": "code",
   "execution_count": 9,
   "metadata": {},
   "outputs": [
    {
     "data": {
      "text/html": [
       "<div>\n",
       "<style scoped>\n",
       "    .dataframe tbody tr th:only-of-type {\n",
       "        vertical-align: middle;\n",
       "    }\n",
       "\n",
       "    .dataframe tbody tr th {\n",
       "        vertical-align: top;\n",
       "    }\n",
       "\n",
       "    .dataframe thead th {\n",
       "        text-align: right;\n",
       "    }\n",
       "</style>\n",
       "<table border=\"1\" class=\"dataframe\">\n",
       "  <thead>\n",
       "    <tr style=\"text-align: right;\">\n",
       "      <th></th>\n",
       "      <th>rdr_num</th>\n",
       "      <th>f_name</th>\n",
       "      <th>l_name</th>\n",
       "      <th>FP4_points</th>\n",
       "    </tr>\n",
       "  </thead>\n",
       "  <tbody>\n",
       "    <tr>\n",
       "      <th>9</th>\n",
       "      <td>30</td>\n",
       "      <td>takaaki</td>\n",
       "      <td>nakagami</td>\n",
       "      <td>25</td>\n",
       "    </tr>\n",
       "    <tr>\n",
       "      <th>14</th>\n",
       "      <td>20</td>\n",
       "      <td>fabio</td>\n",
       "      <td>quartararo</td>\n",
       "      <td>20</td>\n",
       "    </tr>\n",
       "    <tr>\n",
       "      <th>10</th>\n",
       "      <td>42</td>\n",
       "      <td>alex</td>\n",
       "      <td>rins</td>\n",
       "      <td>16</td>\n",
       "    </tr>\n",
       "  </tbody>\n",
       "</table>\n",
       "</div>"
      ],
      "text/plain": [
       "    rdr_num   f_name      l_name  FP4_points\n",
       "9        30  takaaki    nakagami          25\n",
       "14       20    fabio  quartararo          20\n",
       "10       42     alex        rins          16"
      ]
     },
     "execution_count": 9,
     "metadata": {},
     "output_type": "execute_result"
    }
   ],
   "source": [
    "bestFour"
   ]
  },
  {
   "cell_type": "code",
   "execution_count": 10,
   "metadata": {},
   "outputs": [
    {
     "name": "stdout",
     "output_type": "stream",
     "text": [
      "done\n"
     ]
    }
   ],
   "source": [
    "frames = []\n",
    "\n",
    "rdrId\n",
    "\n",
    "for yr in yrRng:\n",
    "    dif = thisYr - 1 - yr\n",
    "    mul = (8 - dif)\n",
    "    files = getFiles(csvFinalDir, f\"{yr}-Moto*{thisTrk}-Result.csv\")\n",
    "    for file in files:\n",
    "        df = pd.read_csv(file)\n",
    "        \n",
    "        startLen = len(df)\n",
    "        if len(df[\"session\"].unique()) > 1:\n",
    "            df = df[df.session != \"RAC\"]\n",
    "        if len(df[\"session\"].unique()) > 1:\n",
    "            df = df[df.session != \"RACE\"]\n",
    "        if len(df[\"session\"].unique()) > 1:\n",
    "            df = df[df.session != \"RAC1\"]\n",
    "        if len(df[\"session\"].unique()) > 1:\n",
    "            df = df[df.session != \"RACE1\"]\n",
    "        if len(df[\"session\"].unique()) > 1:\n",
    "            df = df[df.session != \"RAC2\"]\n",
    "        if len(df[\"session\"].unique()) > 1:\n",
    "            df = df[df.session != \"RACE2\"]\n",
    "        endLen = len(df)\n",
    "        if startLen > 0:\n",
    "            if endLen == 0:\n",
    "                print(\"Problem\\nProblem\\nProblem\\nProblem\\nProblem\\nProblem\\nProblem\\nProblem\\nProblem\\nProblem\\nProblem\\nProblem\\nProblem\\nProblem\\nProblem\\nProblem\\nProblem\\nProblem\\nProblem\\nProblem\\nProblem\\n\")\n",
    "                exit()\n",
    "        \n",
    "        df = df[[\"yr\", \"rnd\", \"session\", \"lge\", \"trk\", \"f_name\", \"l_name\", \"nat\", \"pos\"]]\n",
    "        df = df.dropna()\n",
    "        \n",
    "        conDict = {\"pos\": int }\n",
    "        df = df.astype(conDict)\n",
    "        df[\"idex\"] = df[\"pos\"] - 1\n",
    "        df = df.drop_duplicates()\n",
    "        df[\"points\"] = [pointsPro[x] for x in df.idex]\n",
    "        \n",
    "        df[\"points\"] = (df[\"points\"] * mul) / 8\n",
    "        \n",
    "        if \"Moto2\" in file:\n",
    "            df[\"points\"] = df[\"points\"] - 1\n",
    "        if \"Moto3\" in file:\n",
    "            df[\"points\"] = df[\"points\"] - 2\n",
    "        \n",
    "        ndf = pd.merge(rdrId, df, how = \"left\",\n",
    "                        left_on = [\"f_name\", \"l_name\", \"nat\"],\n",
    "                        right_on = [\"f_name\", \"l_name\", \"nat\"])\n",
    "        \n",
    "        ndf = ndf.dropna()\n",
    "        frames.append(ndf)\n",
    "\n",
    "df = pd.concat(frames)\n",
    "conDict = {\"pos\": int, \"yr\": int, \"rnd\": int}\n",
    "df = df.astype(conDict)\n",
    "df = df[[\"yr\", \"rnd\", \"lge\", \"session\", \"rdr_num\", \"f_name\", \"l_name\", \"nat\", \"pos\", \"points\"]]\n",
    "\n",
    "print(\"done\")    \n"
   ]
  },
  {
   "cell_type": "code",
   "execution_count": 11,
   "metadata": {},
   "outputs": [
    {
     "name": "stdout",
     "output_type": "stream",
     "text": [
      "done\n"
     ]
    }
   ],
   "source": [
    "recDF = df[df.yr > thisYr - 1]\n",
    "if len(recDF) == 0:\n",
    "    recDF = df[df.yr > thisYr - 2]\n",
    "    \n",
    "col = recDF[\"rnd\"]\n",
    "maxVal = col.max()\n",
    "recDF = recDF[recDF.rnd == maxVal]\n",
    "recDF.sort_values(by = [\"pos\"])\n",
    "\n",
    "recDF = recDF[recDF.pos < 4]\n",
    "recDF = recDF[[\"lge\", \"f_name\", \"l_name\", \"nat\"]]\n",
    "recDF = recDF.drop_duplicates()\n",
    "\n",
    "ndf = pd.merge(recDF, df, how = \"left\",\n",
    "                left_on = [\"f_name\", \"l_name\", \"nat\"],\n",
    "                right_on = [\"f_name\", \"l_name\", \"nat\"])\n",
    "\n",
    "conDict = {\"yr\": str, \"rnd\": str, \"rdr_num\": str}\n",
    "ndf = ndf.astype(conDict)\n",
    "ndf[\"race\"] = ndf[\"yr\"] + \"-\" + ndf[\"rnd\"]\n",
    "ndf.loc[ndf.points < 0, \"points\"] = 0\n",
    "\n",
    "ndf[\"id\"] = ndf[\"f_name\"] + \" \" + ndf[\"l_name\"] + \" \" + ndf[\"rdr_num\"]\n",
    "ndf = ndf[[\"race\", \"id\", \"pos\", \"points\"]]\n",
    "\n",
    "print(\"done\")\n"
   ]
  },
  {
   "cell_type": "code",
   "execution_count": 12,
   "metadata": {},
   "outputs": [
    {
     "name": "stdout",
     "output_type": "stream",
     "text": [
      "done\n"
     ]
    }
   ],
   "source": [
    "ids = ndf.sort_values(by = [\"race\"], ascending=False)\n",
    "ids = ids[\"id\"].unique()\n",
    "\n",
    "print(\"done\")"
   ]
  },
  {
   "cell_type": "code",
   "execution_count": 13,
   "metadata": {},
   "outputs": [
    {
     "data": {
      "text/plain": [
       "<matplotlib.legend.Legend at 0x19df1281940>"
      ]
     },
     "execution_count": 13,
     "metadata": {},
     "output_type": "execute_result"
    },
    {
     "data": {
      "image/png": "[encoded data removed]",
      "text/plain": [
       "<Figure size 432x288 with 1 Axes>"
      ]
     },
     "metadata": {
      "needs_background": "light"
     },
     "output_type": "display_data"
    }
   ],
   "source": [
    "colors = [\"red\", \"blue\", \"green\", \"orange\", \"cyan\", \"hotpink\", \"grey\", \"black\", \"yellow\"]\n",
    "markers = [\"o\", \"*\", \"|\", \"x\", \".\", \"P\", \"v\", \"^\", \",\"]\n",
    "\n",
    "mpl.rc('axes', labelsize=14)\n",
    "mpl.rc('xtick', labelsize=12)\n",
    "mpl.rc('ytick', labelsize=12)\n",
    "\n",
    "x = 0\n",
    "for i in ids:\n",
    "    indf = ndf.loc[ndf[\"id\"] == i]\n",
    "    date = indf[\"race\"]\n",
    "    results = indf[\"pos\"]\n",
    "    plt.plot(date, results, label = i, color = colors[x], marker = markers[x])\n",
    "    \n",
    "    x = x + 1\n",
    "    \n",
    "plt.gca().invert_yaxis()\n",
    "plt.legend()"
   ]
  },
  {
   "cell_type": "code",
   "execution_count": null,
   "metadata": {},
   "outputs": [],
   "source": []
  },
  {
   "cell_type": "code",
   "execution_count": null,
   "metadata": {},
   "outputs": [],
   "source": []
  }
 ],
 "metadata": {
  "kernelspec": {
   "display_name": "Python 3",
   "language": "python",
   "name": "python3"
  },
  "language_info": {
   "codemirror_mode": {
    "name": "ipython",
    "version": 3
   },
   "file_extension": ".py",
   "mimetype": "text/x-python",
   "name": "python",
   "nbconvert_exporter": "python",
   "pygments_lexer": "ipython3",
   "version": "3.8.5"
  }
 },
 "nbformat": 4,
 "nbformat_minor": 4
}
