{
 "cells": [
  {
   "cell_type": "code",
   "execution_count": 1,
   "metadata": {},
   "outputs": [
    {
     "name": "stdout",
     "output_type": "stream",
     "text": [
      "done\n"
     ]
    }
   ],
   "source": [
    "import numpy as np\n",
    "from IPython.display import clear_output\n",
    "from E2_AnalysisHelpers import *\n",
    "\n",
    "rnds = [\"1\", \"2\", \"3\", \"4\", \"5\", \"6\", \"7\", \"8\", \"9\", \"10\", \"11\", \"12\", \"13\",\n",
    "        \"14\", \"15\", \"16\", \"17\", \"18\", \"19\", \"20\", \"21\", \"22\", \"23\", \"24\", \"25\"]\n",
    "yrs = [\"2021\", \"2020\", \"2019\", \"2018\", \"2017\", \"2016\", \"2015\", \"2014\",\n",
    "       \"2013\", \"2012\", \"2011\", \"2010\", \"2009\", \"2008\", \"2007\", \"2006\"]\n",
    "\n",
    "thisYr = \"2021\"\n",
    "thisRnd = \"16\"\n",
    "\n",
    "print(\"done\")"
   ]
  },
  {
   "cell_type": "code",
   "execution_count": 2,
   "metadata": {},
   "outputs": [
    {
     "name": "stdout",
     "output_type": "stream",
     "text": [
      "done\n"
     ]
    }
   ],
   "source": [
    "# collate all pre-race dataframes, and add column of race finishing positions\n",
    "pas = \"empty\"\n",
    "dF = []\n",
    "\n",
    "print(\"--------------------------------\\ngetting dataframes and collating\\n--------------------------------\\n\")\n",
    "for yr in yrs:\n",
    "    print(\"   \" + yr)\n",
    "    dF, pas = getWholeFrame(pas, dF, yr)\n",
    "\n",
    "# add weather\n",
    "wF = mergeWeather(dF)\n",
    "\n",
    "clear_output(wait=True)\n",
    "print(\"done\")"
   ]
  },
  {
   "cell_type": "code",
   "execution_count": 12,
   "metadata": {},
   "outputs": [
    {
     "data": {
      "text/plain": [
       "array([7, 8], dtype=int64)"
      ]
     },
     "execution_count": 12,
     "metadata": {},
     "output_type": "execute_result"
    }
   ],
   "source": [
    "nf = wF\n",
    "thisYr = int(thisYr)\n",
    "thisRnd = int(thisRnd)\n",
    "recentDF = nf.loc[(nf[\"yr\"] == thisYr) & (nf[\"rnd\"] == thisRnd)]\n",
    "lstYr = int(thisYr) - 1\n",
    "thisTrk = recentDF[\"trk\"].iloc[0]\n",
    "\n",
    "lastDF = nf.loc[(nf[\"yr\"] == lstYr) & (nf[\"trk\"] == thisTrk)]\n",
    "lstRnds = lastDF.rnd.unique()\n",
    "lstRnds"
   ]
  },
  {
   "cell_type": "code",
   "execution_count": 22,
   "metadata": {},
   "outputs": [
    {
     "name": "stdout",
     "output_type": "stream",
     "text": [
      "done\n"
     ]
    }
   ],
   "source": [
    "frames = []\n",
    "\n",
    "for rnd in lstRnds:\n",
    "    files = getFiles(csvFinalDir, f\"{lstYr}-MotoGP-Rnd_{rnd}-Result.csv\")\n",
    "    for file in files:\n",
    "        frame = pd.read_csv(file)\n",
    "        frames.append(frame)\n",
    "\n",
    "lstFrame = pd.concat(frames)\n",
    "lDF = lstFrame.drop(['index', 'month', 'day', 'f_tire', 'r_tire', 'laps_on_f', 'laps_on_r', 'lap_scaled', 'one_scaled',\n",
    "                   'two_scaled', 'thr_scaled', 'fr_scaled', 'rdr_num', 'f_name', 'l_name', 'nat', 'team',\n",
    "                   'num_of_laps', 'avg_spd', 'start_pos', 'one_val', 'two_val', 'thr_val', 'four_val', 'lap_time',\n",
    "                   'lap_val', 'pit', 'sec_one', \"one_seconds\", \"two_seconds\", \"thr_seconds\", \"four_seconds\"], axis = 1)\n",
    "\n",
    "print(\"done\")"
   ]
  },
  {
   "cell_type": "code",
   "execution_count": 27,
   "metadata": {},
   "outputs": [
    {
     "name": "stdout",
     "output_type": "stream",
     "text": [
      "0   94.01705277363652\n",
      "1   100.0119445008058\n",
      "2   94.31858333333334\n",
      "3   93.67025000000001\n",
      "4   93.70991666666667\n",
      "5   93.66633333333334\n",
      "6   93.58558333333333\n",
      "7   93.34925\n",
      "8   93.50829761904761\n",
      "9   93.58809090909091\n",
      "10   93.36036363636363\n",
      "11   93.37072727272727\n",
      "12   93.40718181818183\n",
      "13   93.50370000000001\n",
      "14   93.5796\n",
      "15   93.3889\n",
      "16   93.383\n",
      "17   93.37179999999998\n",
      "18   93.4449\n",
      "19   93.3927\n",
      "20   93.4162\n",
      "21   93.4768888888889\n",
      "22   93.98277777777777\n",
      "23   93.607\n",
      "24   93.97625\n",
      "25   93.79525000000001\n",
      "26   93.928375\n"
     ]
    }
   ],
   "source": [
    "lapNums = []\n",
    "laps = lDF.lap_num.unique()\n",
    "lDF = lDF[lDF[\"lap_seconds\"].notna()]\n",
    "# lDF = lDF.loc[(lDF[\"manu\"] == \"Ducati\")]\n",
    "laps.sort()\n",
    "for lap in laps[:-1]: lapNums.append(lap)\n",
    "\n",
    "means = []\n",
    "xLaps = []\n",
    "\n",
    "for lap in lapNums:\n",
    "    lapDF = lDF.loc[lDF[\"lap_num\"] == lap]\n",
    "    lapDF = lapDF[lapDF[\"lap_seconds\"].notna()]\n",
    "    \n",
    "#     lapCol = lapDF[\"lap_seconds\"]\n",
    "#     times = []\n",
    "#     for time in lapCol:\n",
    "#         try:\n",
    "#             time = float(time)\n",
    "# #             print(time)\n",
    "#             times.append(time)\n",
    "#         except:\n",
    "#             pass\n",
    "    \n",
    "#     print(len(times))\n",
    "#     x = 0\n",
    "#     for i in times:\n",
    "#         x = x + i\n",
    "    \n",
    "#     mean = x / len(times)\n",
    "#     print(mean)\n",
    "\n",
    "    try:\n",
    "        mean = float(lapDF[[\"lap_seconds\"]].mean())\n",
    "#         mean = float(lapCol.mean())\n",
    "        means.append(mean)\n",
    "        xLaps.append(lap)\n",
    "        print(f\"{lap}   {mean}\")\n",
    "    except:\n",
    "        pass"
   ]
  },
  {
   "cell_type": "code",
   "execution_count": 28,
   "metadata": {},
   "outputs": [
    {
     "data": {
      "image/png": "[encoded data removed]",
      "text/plain": [
       "<Figure size 432x288 with 1 Axes>"
      ]
     },
     "metadata": {
      "needs_background": "light"
     },
     "output_type": "display_data"
    }
   ],
   "source": [
    "aLaps = np.array(xLaps)\n",
    "aMeans = np.array(means)\n",
    "\n",
    "# Create a graph based upon the list and array we have created\n",
    "plt.plot(aLaps, aMeans)\n",
    "# Show the graph that we have created\n",
    "plt.show()\n"
   ]
  },
  {
   "cell_type": "code",
   "execution_count": null,
   "metadata": {},
   "outputs": [],
   "source": []
  },
  {
   "cell_type": "code",
   "execution_count": null,
   "metadata": {},
   "outputs": [],
   "source": []
  },
  {
   "cell_type": "code",
   "execution_count": null,
   "metadata": {},
   "outputs": [],
   "source": []
  },
  {
   "cell_type": "code",
   "execution_count": null,
   "metadata": {},
   "outputs": [],
   "source": []
  },
  {
   "cell_type": "code",
   "execution_count": null,
   "metadata": {},
   "outputs": [],
   "source": [
    "# pd.set_option(\"display.max_rows\", None, \"display.max_columns\", None)\n",
    "\n",
    "# nF = nFrame.drop([\"run_num\", \"f_tire\", \"r_tire\", \"laps_on_f\", \"laps_on_r\", \"pit\", \"lge\", \"rnd\", \"trk\", \"manu\", \"index\",\n",
    "#                   \"month\", \"day\", \"yr\", \"pos\", \"nat\", \"num_of_laps\", \"lap_num\", \"lap_time\", \"lap_val\", \"sec_one\", \"one_val\",\n",
    "#                   \"sec_two\", \"two_val\", \"sec_thr\", \"thr_val\", \"sec_four\", \"four_val\", \"avg_spd\"], axis = 1)\n",
    "\n",
    "# val = {\"result\": \"DNF\"}\n",
    "# xf = nF.fillna(value = val)\n",
    "# xf = xf[[\"session\", \"f_name\", \"l_name\", \"rdr_num\", \"team\", \"lap_seconds\", \"lap_scaled\", \"one_seconds\", \"one_scaled\",\n",
    "#          \"two_seconds\", \"two_scaled\", \"thr_seconds\", \"thr_scaled\", \"four_seconds\", \"fr_scaled\", \"start_pos\", \"result\"]]\n",
    "\n",
    "# yf = xf.sort_values(by=[\"session\", \"result\"])\n",
    "\n",
    "# yf"
   ]
  }
 ],
 "metadata": {
  "kernelspec": {
   "display_name": "Python 3",
   "language": "python",
   "name": "python3"
  },
  "language_info": {
   "codemirror_mode": {
    "name": "ipython",
    "version": 3
   },
   "file_extension": ".py",
   "mimetype": "text/x-python",
   "name": "python",
   "nbconvert_exporter": "python",
   "pygments_lexer": "ipython3",
   "version": "3.8.5"
  }
 },
 "nbformat": 4,
 "nbformat_minor": 4
}
