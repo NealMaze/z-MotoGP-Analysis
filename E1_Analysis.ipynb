{
 "cells": [
  {
   "cell_type": "code",
   "execution_count": null,
   "metadata": {},
   "outputs": [],
   "source": [
    "import numpy as np\n",
    "from E2_AnalysisHelpers import *\n",
    "\n",
    "rnds = [\"1\", \"2\", \"3\", \"4\", \"5\", \"6\", \"7\", \"8\", \"9\", \"10\", \"11\", \"12\", \"13\", \"14\", \"15\", \"16\", \"17\", \"18\", \"19\",\n",
    "        \"20\", \"21\", \"22\", \"23\", \"24\", \"25\"]\n",
    "\n",
    "print(\"done\")"
   ]
  },
  {
   "cell_type": "code",
   "execution_count": null,
   "metadata": {},
   "outputs": [],
   "source": [
    "frames = []\n",
    "\n",
    "for yr in yrs:\n",
    "    for lge in lges:\n",
    "        for rnd in rnds:\n",
    "            preFiles = getFiles(csvFinalDir, f\"{yr}-{lge}-Rnd_{rnd}-PreRace.csv\")\n",
    "            resFiles = getFiles(csvFinalDir, f\"{yr}-{lge}-Rnd_{rnd}-Result.csv\")\n",
    "            \n",
    "            if len(resFiles) > 0:\n",
    "                resFile = resFiles[-1]\n",
    "                if len(resFiles) > 1:\n",
    "                    print(\"\")\n",
    "                    for i in resFiles: print(i)\n",
    "                    print(\"\")\n",
    "                    print(resFile)\n",
    "                    print(\"\")\n",
    "            if len(preFiles) > 0:\n",
    "#                 print(f\"{yr} {lge} rnd_{rnd}\")\n",
    "                preFile = preFiles[0]\n",
    "\n",
    "                preFrame = pd.read_csv(preFile)\n",
    "\n",
    "                if len(resFiles) > 0:\n",
    "                    resFrame = pd.read_csv(resFile)\n",
    "                    rdrFrame = resFrame[[\"rdr_num\", \"pos\"]]\n",
    "                    rdrFrame = rdrFrame.drop_duplicates()\n",
    "                    rdrFrame = rdrFrame.rename(columns = {\"pos\": \"result\"})\n",
    "                    nFrame = preFrame.join(rdrFrame.set_index(\"rdr_num\"), on = \"rdr_num\")\n",
    "                    val = {\"result\": \"DNF\"}\n",
    "                    nF = fillna(value = val)\n",
    "                else:\n",
    "                    preFrame[\"result\"] = \"none\"\n",
    "                    nF = preFrame\n",
    "\n",
    "                frames.append(nF)\n",
    "\n",
    "wF = pd.concat(frames)\n",
    "wF.head()"
   ]
  },
  {
   "cell_type": "code",
   "execution_count": null,
   "metadata": {},
   "outputs": [],
   "source": [
    "# rdrFrame = resFrame[[\"rdr_num\", \"pos\"]]\n",
    "# rdrFrame = rdrFrame.drop_duplicates()\n",
    "    \n",
    "# rdrFrame = rdrFrame.rename(columns = {\"pos\": \"result\"})\n",
    "# nFrame = preFrame.join(rdrFrame.set_index(\"rdr_num\"), on = \"rdr_num\")\n",
    "\n",
    "print(\"done\")"
   ]
  },
  {
   "cell_type": "code",
   "execution_count": null,
   "metadata": {},
   "outputs": [],
   "source": [
    "pd.set_option(\"display.max_rows\", None, \"display.max_columns\", None)\n",
    "\n",
    "nF = nFrame.drop([\"run_num\", \"f_tire\", \"r_tire\", \"laps_on_f\", \"laps_on_r\", \"pit\", \"lge\", \"rnd\", \"trk\", \"manu\", \"index\",\n",
    "                  \"month\", \"day\", \"yr\", \"pos\", \"nat\", \"num_of_laps\", \"lap_num\", \"lap_time\", \"lap_val\", \"sec_one\", \"one_val\",\n",
    "                  \"sec_two\", \"two_val\", \"sec_thr\", \"thr_val\", \"sec_four\", \"four_val\", \"avg_spd\"], axis = 1)\n",
    "\n",
    "val = {\"result\": \"DNF\"}\n",
    "xf = nF.fillna(value = val)\n",
    "xf = xf[[\"session\", \"f_name\", \"l_name\", \"rdr_num\", \"team\", \"lap_seconds\", \"lap_scaled\", \"one_seconds\", \"one_scaled\",\n",
    "         \"two_seconds\", \"two_scaled\", \"thr_seconds\", \"thr_scaled\", \"four_seconds\", \"fr_scaled\", \"start_pos\", \"result\"]]\n",
    "\n",
    "yf = xf.sort_values(by=[\"session\", \"result\"])\n",
    "\n",
    "yf"
   ]
  },
  {
   "cell_type": "code",
   "execution_count": null,
   "metadata": {},
   "outputs": [],
   "source": []
  },
  {
   "cell_type": "code",
   "execution_count": null,
   "metadata": {},
   "outputs": [],
   "source": []
  }
 ],
 "metadata": {
  "kernelspec": {
   "display_name": "Python 3",
   "language": "python",
   "name": "python3"
  },
  "language_info": {
   "codemirror_mode": {
    "name": "ipython",
    "version": 3
   },
   "file_extension": ".py",
   "mimetype": "text/x-python",
   "name": "python",
   "nbconvert_exporter": "python",
   "pygments_lexer": "ipython3",
   "version": "3.8.5"
  }
 },
 "nbformat": 4,
 "nbformat_minor": 4
}
